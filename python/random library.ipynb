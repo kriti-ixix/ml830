{
 "cells": [
  {
   "cell_type": "markdown",
   "id": "e74b4562",
   "metadata": {},
   "source": [
    "## Importing a Library"
   ]
  },
  {
   "cell_type": "code",
   "execution_count": 4,
   "id": "fd17d8e7",
   "metadata": {},
   "outputs": [],
   "source": [
    "import random"
   ]
  },
  {
   "cell_type": "markdown",
   "id": "1a8902a5",
   "metadata": {},
   "source": [
    "**To get the documentation:**\n",
    "\n",
    "Shift + Tab"
   ]
  },
  {
   "cell_type": "markdown",
   "id": "824e7aa7",
   "metadata": {},
   "source": [
    "**To run a cell:**\n",
    "\n",
    "Shift + Enter"
   ]
  },
  {
   "cell_type": "markdown",
   "id": "7c1c1b5a",
   "metadata": {},
   "source": [
    "**To use a function from a library:**\n",
    "\n",
    "library_name.function_name()"
   ]
  },
  {
   "cell_type": "code",
   "execution_count": 13,
   "id": "e1d02333",
   "metadata": {},
   "outputs": [
    {
     "data": {
      "text/plain": [
       "6"
      ]
     },
     "execution_count": 13,
     "metadata": {},
     "output_type": "execute_result"
    }
   ],
   "source": [
    "random.randint(1, 10)"
   ]
  },
  {
   "cell_type": "code",
   "execution_count": 14,
   "id": "3218dfc3",
   "metadata": {},
   "outputs": [
    {
     "data": {
      "text/plain": [
       "43"
      ]
     },
     "execution_count": 14,
     "metadata": {},
     "output_type": "execute_result"
    }
   ],
   "source": [
    "random.randint(1, 100)"
   ]
  },
  {
   "cell_type": "code",
   "execution_count": 21,
   "id": "8ce996ee",
   "metadata": {},
   "outputs": [
    {
     "data": {
      "text/plain": [
       "0.1604276867754375"
      ]
     },
     "execution_count": 21,
     "metadata": {},
     "output_type": "execute_result"
    }
   ],
   "source": [
    "random.random()"
   ]
  },
  {
   "cell_type": "code",
   "execution_count": 25,
   "id": "731b90fe",
   "metadata": {},
   "outputs": [
    {
     "data": {
      "text/plain": [
       "7.411785074650659"
      ]
     },
     "execution_count": 25,
     "metadata": {},
     "output_type": "execute_result"
    }
   ],
   "source": [
    "random.uniform(1, 10)"
   ]
  },
  {
   "cell_type": "code",
   "execution_count": 27,
   "id": "e02cd234",
   "metadata": {},
   "outputs": [
    {
     "data": {
      "text/plain": [
       "67.15449468136318"
      ]
     },
     "execution_count": 27,
     "metadata": {},
     "output_type": "execute_result"
    }
   ],
   "source": [
    "random.uniform(1, 100)"
   ]
  },
  {
   "cell_type": "code",
   "execution_count": 33,
   "id": "7db6ce1b",
   "metadata": {},
   "outputs": [
    {
     "data": {
      "text/plain": [
       "'stone'"
      ]
     },
     "execution_count": 33,
     "metadata": {},
     "output_type": "execute_result"
    }
   ],
   "source": [
    "random.choice(['paper', 'scissor', 'stone'])"
   ]
  },
  {
   "cell_type": "code",
   "execution_count": 37,
   "id": "90a36955",
   "metadata": {},
   "outputs": [
    {
     "data": {
      "text/plain": [
       "1"
      ]
     },
     "execution_count": 37,
     "metadata": {},
     "output_type": "execute_result"
    }
   ],
   "source": [
    "random.choice((1, 2, 3, 4))"
   ]
  },
  {
   "cell_type": "markdown",
   "id": "b27cf5e5",
   "metadata": {},
   "source": [
    "## Importing a Library Using an Alias"
   ]
  },
  {
   "cell_type": "code",
   "execution_count": 41,
   "id": "142afec1",
   "metadata": {},
   "outputs": [],
   "source": [
    "import random as r"
   ]
  },
  {
   "cell_type": "code",
   "execution_count": 42,
   "id": "f53349f2",
   "metadata": {},
   "outputs": [
    {
     "data": {
      "text/plain": [
       "0.19637411046259823"
      ]
     },
     "execution_count": 42,
     "metadata": {},
     "output_type": "execute_result"
    }
   ],
   "source": [
    "r.random()"
   ]
  },
  {
   "cell_type": "code",
   "execution_count": 43,
   "id": "763dd521",
   "metadata": {},
   "outputs": [
    {
     "data": {
      "text/plain": [
       "10"
      ]
     },
     "execution_count": 43,
     "metadata": {},
     "output_type": "execute_result"
    }
   ],
   "source": [
    "r.randint(1, 10)"
   ]
  },
  {
   "cell_type": "markdown",
   "id": "b8ed8404",
   "metadata": {},
   "source": [
    "## Importing Only Specific Functions"
   ]
  },
  {
   "cell_type": "code",
   "execution_count": 44,
   "id": "fabefbd3",
   "metadata": {},
   "outputs": [],
   "source": [
    "from random import randint, uniform"
   ]
  },
  {
   "cell_type": "code",
   "execution_count": 45,
   "id": "23b78daa",
   "metadata": {},
   "outputs": [
    {
     "data": {
      "text/plain": [
       "88"
      ]
     },
     "execution_count": 45,
     "metadata": {},
     "output_type": "execute_result"
    }
   ],
   "source": [
    "randint(1, 100)"
   ]
  },
  {
   "cell_type": "code",
   "execution_count": 46,
   "id": "997f03ec",
   "metadata": {},
   "outputs": [
    {
     "data": {
      "text/plain": [
       "4.354393559522275"
      ]
     },
     "execution_count": 46,
     "metadata": {},
     "output_type": "execute_result"
    }
   ],
   "source": [
    "uniform(1, 100)"
   ]
  },
  {
   "cell_type": "code",
   "execution_count": null,
   "id": "4a231c56",
   "metadata": {},
   "outputs": [],
   "source": []
  }
 ],
 "metadata": {
  "kernelspec": {
   "display_name": "Python 3",
   "language": "python",
   "name": "python3"
  },
  "language_info": {
   "codemirror_mode": {
    "name": "ipython",
    "version": 3
   },
   "file_extension": ".py",
   "mimetype": "text/x-python",
   "name": "python",
   "nbconvert_exporter": "python",
   "pygments_lexer": "ipython3",
   "version": "3.8.8"
  }
 },
 "nbformat": 4,
 "nbformat_minor": 5
}
