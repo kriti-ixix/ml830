{
 "cells": [
  {
   "cell_type": "markdown",
   "metadata": {},
   "source": [
    "# NumPy Exercises "
   ]
  },
  {
   "cell_type": "markdown",
   "metadata": {},
   "source": [
    "#### Import NumPy as np"
   ]
  },
  {
   "cell_type": "code",
   "execution_count": 28,
   "metadata": {},
   "outputs": [],
   "source": [
    "import numpy as np"
   ]
  },
  {
   "cell_type": "markdown",
   "metadata": {},
   "source": [
    "#### Create an array of 10 zeros "
   ]
  },
  {
   "cell_type": "code",
   "execution_count": 29,
   "metadata": {},
   "outputs": [
    {
     "data": {
      "text/plain": [
       "array([0., 0., 0., 0., 0., 0., 0., 0., 0., 0.])"
      ]
     },
     "execution_count": 29,
     "metadata": {},
     "output_type": "execute_result"
    }
   ],
   "source": [
    "np.zeros(10)"
   ]
  },
  {
   "cell_type": "markdown",
   "metadata": {},
   "source": [
    "#### Create an array of 10 ones"
   ]
  },
  {
   "cell_type": "code",
   "execution_count": 30,
   "metadata": {},
   "outputs": [
    {
     "data": {
      "text/plain": [
       "array([1., 1., 1., 1., 1., 1., 1., 1., 1., 1.])"
      ]
     },
     "execution_count": 30,
     "metadata": {},
     "output_type": "execute_result"
    }
   ],
   "source": [
    "np.ones(10)"
   ]
  },
  {
   "cell_type": "markdown",
   "metadata": {},
   "source": [
    "#### Create an array of 10 fives"
   ]
  },
  {
   "cell_type": "code",
   "execution_count": 31,
   "metadata": {},
   "outputs": [
    {
     "data": {
      "text/plain": [
       "array([5., 5., 5., 5., 5., 5., 5., 5., 5., 5.])"
      ]
     },
     "execution_count": 31,
     "metadata": {},
     "output_type": "execute_result"
    }
   ],
   "source": [
    "np.full(10, 5, dtype=float)"
   ]
  },
  {
   "cell_type": "markdown",
   "metadata": {},
   "source": [
    "#### Create an array of the integers from 10 to 50"
   ]
  },
  {
   "cell_type": "code",
   "execution_count": 32,
   "metadata": {},
   "outputs": [
    {
     "data": {
      "text/plain": [
       "array([10, 11, 12, 13, 14, 15, 16, 17, 18, 19, 20, 21, 22, 23, 24, 25, 26,\n",
       "       27, 28, 29, 30, 31, 32, 33, 34, 35, 36, 37, 38, 39, 40, 41, 42, 43,\n",
       "       44, 45, 46, 47, 48, 49, 50])"
      ]
     },
     "execution_count": 32,
     "metadata": {},
     "output_type": "execute_result"
    }
   ],
   "source": [
    "np.arange(10, 51)"
   ]
  },
  {
   "cell_type": "markdown",
   "metadata": {},
   "source": [
    "#### Create an array of all the even integers from 10 to 50"
   ]
  },
  {
   "cell_type": "code",
   "execution_count": 33,
   "metadata": {},
   "outputs": [
    {
     "data": {
      "text/plain": [
       "array([10, 12, 14, 16, 18, 20, 22, 24, 26, 28, 30, 32, 34, 36, 38, 40, 42,\n",
       "       44, 46, 48, 50])"
      ]
     },
     "execution_count": 33,
     "metadata": {},
     "output_type": "execute_result"
    }
   ],
   "source": [
    "np.arange(10, 51, 2)"
   ]
  },
  {
   "cell_type": "markdown",
   "metadata": {},
   "source": [
    "#### Create a 3x3 matrix with values ranging from 0 to 8"
   ]
  },
  {
   "cell_type": "code",
   "execution_count": 34,
   "metadata": {},
   "outputs": [
    {
     "data": {
      "text/plain": [
       "array([[0, 1, 2],\n",
       "       [3, 4, 5],\n",
       "       [6, 7, 8]])"
      ]
     },
     "execution_count": 34,
     "metadata": {},
     "output_type": "execute_result"
    }
   ],
   "source": [
    "np.arange(9).reshape(3, 3)"
   ]
  },
  {
   "cell_type": "markdown",
   "metadata": {},
   "source": [
    "#### Create a 3x3 identity matrix"
   ]
  },
  {
   "cell_type": "code",
   "execution_count": 35,
   "metadata": {},
   "outputs": [
    {
     "data": {
      "text/plain": [
       "array([[1., 0., 0.],\n",
       "       [0., 1., 0.],\n",
       "       [0., 0., 1.]])"
      ]
     },
     "execution_count": 35,
     "metadata": {},
     "output_type": "execute_result"
    }
   ],
   "source": [
    "np.eye(3)"
   ]
  },
  {
   "cell_type": "markdown",
   "metadata": {},
   "source": [
    "#### Use NumPy to generate a random number between 0 and 1"
   ]
  },
  {
   "cell_type": "code",
   "execution_count": 36,
   "metadata": {},
   "outputs": [
    {
     "data": {
      "text/plain": [
       "array([0.10926276])"
      ]
     },
     "execution_count": 36,
     "metadata": {},
     "output_type": "execute_result"
    }
   ],
   "source": [
    "np.random.rand(1)"
   ]
  },
  {
   "cell_type": "markdown",
   "metadata": {},
   "source": [
    "#### Create the following matrix:"
   ]
  },
  {
   "cell_type": "code",
   "execution_count": 37,
   "metadata": {},
   "outputs": [
    {
     "data": {
      "text/plain": [
       "array([0.01, 0.02, 0.03, 0.04, 0.05, 0.06, 0.07, 0.08, 0.09, 0.1 , 0.11,\n",
       "       0.12, 0.13, 0.14, 0.15, 0.16, 0.17, 0.18, 0.19, 0.2 , 0.21, 0.22,\n",
       "       0.23, 0.24, 0.25, 0.26, 0.27, 0.28, 0.29, 0.3 , 0.31, 0.32, 0.33,\n",
       "       0.34, 0.35, 0.36, 0.37, 0.38, 0.39, 0.4 , 0.41, 0.42, 0.43, 0.44,\n",
       "       0.45, 0.46, 0.47, 0.48, 0.49, 0.5 , 0.51, 0.52, 0.53, 0.54, 0.55,\n",
       "       0.56, 0.57, 0.58, 0.59, 0.6 , 0.61, 0.62, 0.63, 0.64, 0.65, 0.66,\n",
       "       0.67, 0.68, 0.69, 0.7 , 0.71, 0.72, 0.73, 0.74, 0.75, 0.76, 0.77,\n",
       "       0.78, 0.79, 0.8 , 0.81, 0.82, 0.83, 0.84, 0.85, 0.86, 0.87, 0.88,\n",
       "       0.89, 0.9 , 0.91, 0.92, 0.93, 0.94, 0.95, 0.96, 0.97, 0.98, 0.99,\n",
       "       1.  ])"
      ]
     },
     "execution_count": 37,
     "metadata": {},
     "output_type": "execute_result"
    }
   ],
   "source": [
    "np.arange(0.01, 1.01, 0.01)"
   ]
  },
  {
   "cell_type": "markdown",
   "metadata": {},
   "source": [
    "#### Create an array of 20 linearly spaced points between 0 and 1: \n",
    "\n",
    "(Hint: Use linspace function)"
   ]
  },
  {
   "cell_type": "code",
   "execution_count": 38,
   "metadata": {},
   "outputs": [
    {
     "data": {
      "text/plain": [
       "array([0.        , 0.05263158, 0.10526316, 0.15789474, 0.21052632,\n",
       "       0.26315789, 0.31578947, 0.36842105, 0.42105263, 0.47368421,\n",
       "       0.52631579, 0.57894737, 0.63157895, 0.68421053, 0.73684211,\n",
       "       0.78947368, 0.84210526, 0.89473684, 0.94736842, 1.        ])"
      ]
     },
     "execution_count": 38,
     "metadata": {},
     "output_type": "execute_result"
    }
   ],
   "source": [
    "np.linspace(0, 1, 20)"
   ]
  },
  {
   "cell_type": "markdown",
   "metadata": {},
   "source": [
    "## Numpy Indexing and Selection"
   ]
  },
  {
   "cell_type": "code",
   "execution_count": 39,
   "metadata": {},
   "outputs": [
    {
     "data": {
      "text/plain": [
       "array([[ 1,  2,  3,  4,  5],\n",
       "       [ 6,  7,  8,  9, 10],\n",
       "       [11, 12, 13, 14, 15],\n",
       "       [16, 17, 18, 19, 20],\n",
       "       [21, 22, 23, 24, 25]])"
      ]
     },
     "execution_count": 39,
     "metadata": {},
     "output_type": "execute_result"
    }
   ],
   "source": [
    "mat = np.arange(1,26).reshape(5,5)\n",
    "mat"
   ]
  },
  {
   "cell_type": "markdown",
   "metadata": {},
   "source": [
    "You are given this matrix named mat. Write some code to get the outputs accordingly in the cells given below"
   ]
  },
  {
   "cell_type": "code",
   "execution_count": 40,
   "metadata": {},
   "outputs": [
    {
     "data": {
      "text/plain": [
       "array([[12, 13, 14, 15],\n",
       "       [17, 18, 19, 20],\n",
       "       [22, 23, 24, 25]])"
      ]
     },
     "execution_count": 40,
     "metadata": {},
     "output_type": "execute_result"
    }
   ],
   "source": [
    "#Enter your code here \n",
    "mat[2:, 1:]"
   ]
  },
  {
   "cell_type": "code",
   "execution_count": null,
   "metadata": {},
   "outputs": [],
   "source": []
  },
  {
   "cell_type": "code",
   "execution_count": 41,
   "metadata": {},
   "outputs": [
    {
     "data": {
      "text/plain": [
       "20"
      ]
     },
     "execution_count": 41,
     "metadata": {},
     "output_type": "execute_result"
    }
   ],
   "source": [
    "#Enter your code here \n",
    "mat[3][4]"
   ]
  },
  {
   "cell_type": "code",
   "execution_count": null,
   "metadata": {},
   "outputs": [],
   "source": []
  },
  {
   "cell_type": "code",
   "execution_count": 42,
   "metadata": {},
   "outputs": [
    {
     "data": {
      "text/plain": [
       "array([[ 2],\n",
       "       [ 7],\n",
       "       [12]])"
      ]
     },
     "execution_count": 42,
     "metadata": {},
     "output_type": "execute_result"
    }
   ],
   "source": [
    "#Enter your code here \n",
    "mat[:3, 1:2]"
   ]
  },
  {
   "cell_type": "code",
   "execution_count": null,
   "metadata": {},
   "outputs": [],
   "source": []
  },
  {
   "cell_type": "code",
   "execution_count": 43,
   "metadata": {},
   "outputs": [
    {
     "data": {
      "text/plain": [
       "array([21, 22, 23, 24, 25])"
      ]
     },
     "execution_count": 43,
     "metadata": {},
     "output_type": "execute_result"
    }
   ],
   "source": [
    "#Enter your code here \n",
    "mat[-1]"
   ]
  },
  {
   "cell_type": "code",
   "execution_count": null,
   "metadata": {},
   "outputs": [],
   "source": []
  },
  {
   "cell_type": "code",
   "execution_count": 44,
   "metadata": {},
   "outputs": [
    {
     "data": {
      "text/plain": [
       "array([[16, 17, 18, 19, 20],\n",
       "       [21, 22, 23, 24, 25]])"
      ]
     },
     "execution_count": 44,
     "metadata": {},
     "output_type": "execute_result"
    }
   ],
   "source": [
    "#Enter your code here \n",
    "mat[3:]"
   ]
  },
  {
   "cell_type": "code",
   "execution_count": null,
   "metadata": {},
   "outputs": [],
   "source": []
  },
  {
   "cell_type": "markdown",
   "metadata": {},
   "source": [
    "#### Get the sum of all the values in mat"
   ]
  },
  {
   "cell_type": "code",
   "execution_count": 45,
   "metadata": {},
   "outputs": [
    {
     "data": {
      "text/plain": [
       "array([55, 60, 65, 70, 75])"
      ]
     },
     "execution_count": 45,
     "metadata": {},
     "output_type": "execute_result"
    }
   ],
   "source": [
    "sum(mat)"
   ]
  },
  {
   "cell_type": "code",
   "execution_count": 46,
   "metadata": {},
   "outputs": [
    {
     "data": {
      "text/plain": [
       "325"
      ]
     },
     "execution_count": 46,
     "metadata": {},
     "output_type": "execute_result"
    }
   ],
   "source": [
    "mat.sum()"
   ]
  },
  {
   "cell_type": "code",
   "execution_count": 53,
   "metadata": {},
   "outputs": [
    {
     "data": {
      "text/plain": [
       "array([ 15,  40,  65,  90, 115])"
      ]
     },
     "execution_count": 53,
     "metadata": {},
     "output_type": "execute_result"
    }
   ],
   "source": [
    "mat.sum(axis=1)"
   ]
  },
  {
   "cell_type": "code",
   "execution_count": 51,
   "metadata": {},
   "outputs": [
    {
     "data": {
      "text/plain": [
       "(5, 5)"
      ]
     },
     "execution_count": 51,
     "metadata": {},
     "output_type": "execute_result"
    }
   ],
   "source": [
    "mat.shape"
   ]
  },
  {
   "cell_type": "markdown",
   "metadata": {},
   "source": [
    "#### Get the standard deviation of the values in mat"
   ]
  },
  {
   "cell_type": "code",
   "execution_count": 47,
   "metadata": {},
   "outputs": [
    {
     "data": {
      "text/plain": [
       "7.211102550927978"
      ]
     },
     "execution_count": 47,
     "metadata": {},
     "output_type": "execute_result"
    }
   ],
   "source": [
    "mat.std()"
   ]
  },
  {
   "cell_type": "markdown",
   "metadata": {},
   "source": [
    "#### Get the sum of all the columns in mat"
   ]
  },
  {
   "cell_type": "code",
   "execution_count": 48,
   "metadata": {},
   "outputs": [
    {
     "data": {
      "text/plain": [
       "array([55, 60, 65, 70, 75])"
      ]
     },
     "execution_count": 48,
     "metadata": {},
     "output_type": "execute_result"
    }
   ],
   "source": [
    "sum(mat)"
   ]
  },
  {
   "cell_type": "code",
   "execution_count": 50,
   "metadata": {
    "scrolled": true
   },
   "outputs": [
    {
     "name": "stdout",
     "output_type": "stream",
     "text": [
      "Help on int64 object:\n",
      "\n",
      "class int64(signedinteger)\n",
      " |  Signed integer type, compatible with Python `int` anc C ``long``.\n",
      " |  Character code: ``'l'``.\n",
      " |  Canonical name: ``np.int_``.\n",
      " |  Alias *on this platform*: ``np.int64``: 64-bit signed integer (-9223372036854775808 to 9223372036854775807).\n",
      " |  Alias *on this platform*: ``np.intp``: Signed integer large enough to fit pointer, compatible with C ``intptr_t``.\n",
      " |  \n",
      " |  Method resolution order:\n",
      " |      int64\n",
      " |      signedinteger\n",
      " |      integer\n",
      " |      number\n",
      " |      generic\n",
      " |      builtins.object\n",
      " |  \n",
      " |  Methods defined here:\n",
      " |  \n",
      " |  __abs__(self, /)\n",
      " |      abs(self)\n",
      " |  \n",
      " |  __add__(self, value, /)\n",
      " |      Return self+value.\n",
      " |  \n",
      " |  __and__(self, value, /)\n",
      " |      Return self&value.\n",
      " |  \n",
      " |  __bool__(self, /)\n",
      " |      self != 0\n",
      " |  \n",
      " |  __divmod__(self, value, /)\n",
      " |      Return divmod(self, value).\n",
      " |  \n",
      " |  __eq__(self, value, /)\n",
      " |      Return self==value.\n",
      " |  \n",
      " |  __float__(self, /)\n",
      " |      float(self)\n",
      " |  \n",
      " |  __floordiv__(self, value, /)\n",
      " |      Return self//value.\n",
      " |  \n",
      " |  __ge__(self, value, /)\n",
      " |      Return self>=value.\n",
      " |  \n",
      " |  __gt__(self, value, /)\n",
      " |      Return self>value.\n",
      " |  \n",
      " |  __hash__(self, /)\n",
      " |      Return hash(self).\n",
      " |  \n",
      " |  __index__(self, /)\n",
      " |      Return self converted to an integer, if self is suitable for use as an index into a list.\n",
      " |  \n",
      " |  __int__(self, /)\n",
      " |      int(self)\n",
      " |  \n",
      " |  __invert__(self, /)\n",
      " |      ~self\n",
      " |  \n",
      " |  __le__(self, value, /)\n",
      " |      Return self<=value.\n",
      " |  \n",
      " |  __lshift__(self, value, /)\n",
      " |      Return self<<value.\n",
      " |  \n",
      " |  __lt__(self, value, /)\n",
      " |      Return self<value.\n",
      " |  \n",
      " |  __mod__(self, value, /)\n",
      " |      Return self%value.\n",
      " |  \n",
      " |  __mul__(self, value, /)\n",
      " |      Return self*value.\n",
      " |  \n",
      " |  __ne__(self, value, /)\n",
      " |      Return self!=value.\n",
      " |  \n",
      " |  __neg__(self, /)\n",
      " |      -self\n",
      " |  \n",
      " |  __or__(self, value, /)\n",
      " |      Return self|value.\n",
      " |  \n",
      " |  __pos__(self, /)\n",
      " |      +self\n",
      " |  \n",
      " |  __pow__(self, value, mod=None, /)\n",
      " |      Return pow(self, value, mod).\n",
      " |  \n",
      " |  __radd__(self, value, /)\n",
      " |      Return value+self.\n",
      " |  \n",
      " |  __rand__(self, value, /)\n",
      " |      Return value&self.\n",
      " |  \n",
      " |  __rdivmod__(self, value, /)\n",
      " |      Return divmod(value, self).\n",
      " |  \n",
      " |  __repr__(self, /)\n",
      " |      Return repr(self).\n",
      " |  \n",
      " |  __rfloordiv__(self, value, /)\n",
      " |      Return value//self.\n",
      " |  \n",
      " |  __rlshift__(self, value, /)\n",
      " |      Return value<<self.\n",
      " |  \n",
      " |  __rmod__(self, value, /)\n",
      " |      Return value%self.\n",
      " |  \n",
      " |  __rmul__(self, value, /)\n",
      " |      Return value*self.\n",
      " |  \n",
      " |  __ror__(self, value, /)\n",
      " |      Return value|self.\n",
      " |  \n",
      " |  __rpow__(self, value, mod=None, /)\n",
      " |      Return pow(value, self, mod).\n",
      " |  \n",
      " |  __rrshift__(self, value, /)\n",
      " |      Return value>>self.\n",
      " |  \n",
      " |  __rshift__(self, value, /)\n",
      " |      Return self>>value.\n",
      " |  \n",
      " |  __rsub__(self, value, /)\n",
      " |      Return value-self.\n",
      " |  \n",
      " |  __rtruediv__(self, value, /)\n",
      " |      Return value/self.\n",
      " |  \n",
      " |  __rxor__(self, value, /)\n",
      " |      Return value^self.\n",
      " |  \n",
      " |  __str__(self, /)\n",
      " |      Return str(self).\n",
      " |  \n",
      " |  __sub__(self, value, /)\n",
      " |      Return self-value.\n",
      " |  \n",
      " |  __truediv__(self, value, /)\n",
      " |      Return self/value.\n",
      " |  \n",
      " |  __xor__(self, value, /)\n",
      " |      Return self^value.\n",
      " |  \n",
      " |  ----------------------------------------------------------------------\n",
      " |  Static methods defined here:\n",
      " |  \n",
      " |  __new__(*args, **kwargs) from builtins.type\n",
      " |      Create and return a new object.  See help(type) for accurate signature.\n",
      " |  \n",
      " |  ----------------------------------------------------------------------\n",
      " |  Methods inherited from integer:\n",
      " |  \n",
      " |  __round__(...)\n",
      " |  \n",
      " |  ----------------------------------------------------------------------\n",
      " |  Data descriptors inherited from integer:\n",
      " |  \n",
      " |  denominator\n",
      " |      denominator of value (1)\n",
      " |  \n",
      " |  numerator\n",
      " |      numerator of value (the value itself)\n",
      " |  \n",
      " |  ----------------------------------------------------------------------\n",
      " |  Methods inherited from generic:\n",
      " |  \n",
      " |  __array__(...)\n",
      " |      sc.__array__(dtype) return 0-dim array from scalar with specified dtype\n",
      " |  \n",
      " |  __array_wrap__(...)\n",
      " |      sc.__array_wrap__(obj) return scalar from array\n",
      " |  \n",
      " |  __copy__(...)\n",
      " |  \n",
      " |  __deepcopy__(...)\n",
      " |  \n",
      " |  __format__(...)\n",
      " |      NumPy array scalar formatter\n",
      " |  \n",
      " |  __getitem__(self, key, /)\n",
      " |      Return self[key].\n",
      " |  \n",
      " |  __reduce__(...)\n",
      " |      Helper for pickle.\n",
      " |  \n",
      " |  __setstate__(...)\n",
      " |  \n",
      " |  __sizeof__(...)\n",
      " |      Size of object in memory, in bytes.\n",
      " |  \n",
      " |  all(...)\n",
      " |      Not implemented (virtual attribute)\n",
      " |      \n",
      " |      Class generic exists solely to derive numpy scalars from, and possesses,\n",
      " |      albeit unimplemented, all the attributes of the ndarray class\n",
      " |      so as to provide a uniform API.\n",
      " |      \n",
      " |      See also the corresponding attribute of the derived class of interest.\n",
      " |  \n",
      " |  any(...)\n",
      " |      Not implemented (virtual attribute)\n",
      " |      \n",
      " |      Class generic exists solely to derive numpy scalars from, and possesses,\n",
      " |      albeit unimplemented, all the attributes of the ndarray class\n",
      " |      so as to provide a uniform API.\n",
      " |      \n",
      " |      See also the corresponding attribute of the derived class of interest.\n",
      " |  \n",
      " |  argmax(...)\n",
      " |      Not implemented (virtual attribute)\n",
      " |      \n",
      " |      Class generic exists solely to derive numpy scalars from, and possesses,\n",
      " |      albeit unimplemented, all the attributes of the ndarray class\n",
      " |      so as to provide a uniform API.\n",
      " |      \n",
      " |      See also the corresponding attribute of the derived class of interest.\n",
      " |  \n",
      " |  argmin(...)\n",
      " |      Not implemented (virtual attribute)\n",
      " |      \n",
      " |      Class generic exists solely to derive numpy scalars from, and possesses,\n",
      " |      albeit unimplemented, all the attributes of the ndarray class\n",
      " |      so as to provide a uniform API.\n",
      " |      \n",
      " |      See also the corresponding attribute of the derived class of interest.\n",
      " |  \n",
      " |  argsort(...)\n",
      " |      Not implemented (virtual attribute)\n",
      " |      \n",
      " |      Class generic exists solely to derive numpy scalars from, and possesses,\n",
      " |      albeit unimplemented, all the attributes of the ndarray class\n",
      " |      so as to provide a uniform API.\n",
      " |      \n",
      " |      See also the corresponding attribute of the derived class of interest.\n",
      " |  \n",
      " |  astype(...)\n",
      " |      Not implemented (virtual attribute)\n",
      " |      \n",
      " |      Class generic exists solely to derive numpy scalars from, and possesses,\n",
      " |      albeit unimplemented, all the attributes of the ndarray class\n",
      " |      so as to provide a uniform API.\n",
      " |      \n",
      " |      See also the corresponding attribute of the derived class of interest.\n",
      " |  \n",
      " |  byteswap(...)\n",
      " |      Not implemented (virtual attribute)\n",
      " |      \n",
      " |      Class generic exists solely to derive numpy scalars from, and possesses,\n",
      " |      albeit unimplemented, all the attributes of the ndarray class so as to\n",
      " |      provide a uniform API.\n",
      " |      \n",
      " |      See also the corresponding attribute of the derived class of interest.\n",
      " |  \n",
      " |  choose(...)\n",
      " |      Not implemented (virtual attribute)\n",
      " |      \n",
      " |      Class generic exists solely to derive numpy scalars from, and possesses,\n",
      " |      albeit unimplemented, all the attributes of the ndarray class\n",
      " |      so as to provide a uniform API.\n",
      " |      \n",
      " |      See also the corresponding attribute of the derived class of interest.\n",
      " |  \n",
      " |  clip(...)\n",
      " |      Not implemented (virtual attribute)\n",
      " |      \n",
      " |      Class generic exists solely to derive numpy scalars from, and possesses,\n",
      " |      albeit unimplemented, all the attributes of the ndarray class\n",
      " |      so as to provide a uniform API.\n",
      " |      \n",
      " |      See also the corresponding attribute of the derived class of interest.\n",
      " |  \n",
      " |  compress(...)\n",
      " |      Not implemented (virtual attribute)\n",
      " |      \n",
      " |      Class generic exists solely to derive numpy scalars from, and possesses,\n",
      " |      albeit unimplemented, all the attributes of the ndarray class\n",
      " |      so as to provide a uniform API.\n",
      " |      \n",
      " |      See also the corresponding attribute of the derived class of interest.\n",
      " |  \n",
      " |  conj(...)\n",
      " |  \n",
      " |  conjugate(...)\n",
      " |      Not implemented (virtual attribute)\n",
      " |      \n",
      " |      Class generic exists solely to derive numpy scalars from, and possesses,\n",
      " |      albeit unimplemented, all the attributes of the ndarray class\n",
      " |      so as to provide a uniform API.\n",
      " |      \n",
      " |      See also the corresponding attribute of the derived class of interest.\n",
      " |  \n",
      " |  copy(...)\n",
      " |      Not implemented (virtual attribute)\n",
      " |      \n",
      " |      Class generic exists solely to derive numpy scalars from, and possesses,\n",
      " |      albeit unimplemented, all the attributes of the ndarray class\n",
      " |      so as to provide a uniform API.\n",
      " |      \n",
      " |      See also the corresponding attribute of the derived class of interest.\n",
      " |  \n",
      " |  cumprod(...)\n",
      " |      Not implemented (virtual attribute)\n",
      " |      \n",
      " |      Class generic exists solely to derive numpy scalars from, and possesses,\n",
      " |      albeit unimplemented, all the attributes of the ndarray class\n",
      " |      so as to provide a uniform API.\n",
      " |      \n",
      " |      See also the corresponding attribute of the derived class of interest.\n",
      " |  \n",
      " |  cumsum(...)\n",
      " |      Not implemented (virtual attribute)\n",
      " |      \n",
      " |      Class generic exists solely to derive numpy scalars from, and possesses,\n",
      " |      albeit unimplemented, all the attributes of the ndarray class\n",
      " |      so as to provide a uniform API.\n",
      " |      \n",
      " |      See also the corresponding attribute of the derived class of interest.\n",
      " |  \n",
      " |  diagonal(...)\n",
      " |      Not implemented (virtual attribute)\n",
      " |      \n",
      " |      Class generic exists solely to derive numpy scalars from, and possesses,\n",
      " |      albeit unimplemented, all the attributes of the ndarray class\n",
      " |      so as to provide a uniform API.\n",
      " |      \n",
      " |      See also the corresponding attribute of the derived class of interest.\n",
      " |  \n",
      " |  dump(...)\n",
      " |      Not implemented (virtual attribute)\n",
      " |      \n",
      " |      Class generic exists solely to derive numpy scalars from, and possesses,\n",
      " |      albeit unimplemented, all the attributes of the ndarray class\n",
      " |      so as to provide a uniform API.\n",
      " |      \n",
      " |      See also the corresponding attribute of the derived class of interest.\n",
      " |  \n",
      " |  dumps(...)\n",
      " |      Not implemented (virtual attribute)\n",
      " |      \n",
      " |      Class generic exists solely to derive numpy scalars from, and possesses,\n",
      " |      albeit unimplemented, all the attributes of the ndarray class\n",
      " |      so as to provide a uniform API.\n",
      " |      \n",
      " |      See also the corresponding attribute of the derived class of interest.\n",
      " |  \n",
      " |  fill(...)\n",
      " |      Not implemented (virtual attribute)\n",
      " |      \n",
      " |      Class generic exists solely to derive numpy scalars from, and possesses,\n",
      " |      albeit unimplemented, all the attributes of the ndarray class\n",
      " |      so as to provide a uniform API.\n",
      " |      \n",
      " |      See also the corresponding attribute of the derived class of interest.\n",
      " |  \n",
      " |  flatten(...)\n",
      " |      Not implemented (virtual attribute)\n",
      " |      \n",
      " |      Class generic exists solely to derive numpy scalars from, and possesses,\n",
      " |      albeit unimplemented, all the attributes of the ndarray class\n",
      " |      so as to provide a uniform API.\n",
      " |      \n",
      " |      See also the corresponding attribute of the derived class of interest.\n",
      " |  \n",
      " |  getfield(...)\n",
      " |      Not implemented (virtual attribute)\n",
      " |      \n",
      " |      Class generic exists solely to derive numpy scalars from, and possesses,\n",
      " |      albeit unimplemented, all the attributes of the ndarray class\n",
      " |      so as to provide a uniform API.\n",
      " |      \n",
      " |      See also the corresponding attribute of the derived class of interest.\n",
      " |  \n",
      " |  item(...)\n",
      " |      Not implemented (virtual attribute)\n",
      " |      \n",
      " |      Class generic exists solely to derive numpy scalars from, and possesses,\n",
      " |      albeit unimplemented, all the attributes of the ndarray class\n",
      " |      so as to provide a uniform API.\n",
      " |      \n",
      " |      See also the corresponding attribute of the derived class of interest.\n",
      " |  \n",
      " |  itemset(...)\n",
      " |      Not implemented (virtual attribute)\n",
      " |      \n",
      " |      Class generic exists solely to derive numpy scalars from, and possesses,\n",
      " |      albeit unimplemented, all the attributes of the ndarray class\n",
      " |      so as to provide a uniform API.\n",
      " |      \n",
      " |      See also the corresponding attribute of the derived class of interest.\n",
      " |  \n",
      " |  max(...)\n",
      " |      Not implemented (virtual attribute)\n",
      " |      \n",
      " |      Class generic exists solely to derive numpy scalars from, and possesses,\n",
      " |      albeit unimplemented, all the attributes of the ndarray class\n",
      " |      so as to provide a uniform API.\n",
      " |      \n",
      " |      See also the corresponding attribute of the derived class of interest.\n",
      " |  \n",
      " |  mean(...)\n",
      " |      Not implemented (virtual attribute)\n",
      " |      \n",
      " |      Class generic exists solely to derive numpy scalars from, and possesses,\n",
      " |      albeit unimplemented, all the attributes of the ndarray class\n",
      " |      so as to provide a uniform API.\n",
      " |      \n",
      " |      See also the corresponding attribute of the derived class of interest.\n",
      " |  \n",
      " |  min(...)\n",
      " |      Not implemented (virtual attribute)\n",
      " |      \n",
      " |      Class generic exists solely to derive numpy scalars from, and possesses,\n",
      " |      albeit unimplemented, all the attributes of the ndarray class\n",
      " |      so as to provide a uniform API.\n",
      " |      \n",
      " |      See also the corresponding attribute of the derived class of interest.\n",
      " |  \n",
      " |  newbyteorder(...)\n",
      " |      newbyteorder(new_order='S')\n",
      " |      \n",
      " |      Return a new `dtype` with a different byte order.\n",
      " |      \n",
      " |      Changes are also made in all fields and sub-arrays of the data type.\n",
      " |      \n",
      " |      The `new_order` code can be any from the following:\n",
      " |      \n",
      " |      * 'S' - swap dtype from current to opposite endian\n",
      " |      * {'<', 'L'} - little endian\n",
      " |      * {'>', 'B'} - big endian\n",
      " |      * {'=', 'N'} - native order\n",
      " |      * {'|', 'I'} - ignore (no change to byte order)\n",
      " |      \n",
      " |      Parameters\n",
      " |      ----------\n",
      " |      new_order : str, optional\n",
      " |          Byte order to force; a value from the byte order specifications\n",
      " |          above.  The default value ('S') results in swapping the current\n",
      " |          byte order. The code does a case-insensitive check on the first\n",
      " |          letter of `new_order` for the alternatives above.  For example,\n",
      " |          any of 'B' or 'b' or 'biggish' are valid to specify big-endian.\n",
      " |      \n",
      " |      \n",
      " |      Returns\n",
      " |      -------\n",
      " |      new_dtype : dtype\n",
      " |          New `dtype` object with the given change to the byte order.\n",
      " |  \n",
      " |  nonzero(...)\n",
      " |      Not implemented (virtual attribute)\n",
      " |      \n",
      " |      Class generic exists solely to derive numpy scalars from, and possesses,\n",
      " |      albeit unimplemented, all the attributes of the ndarray class\n",
      " |      so as to provide a uniform API.\n",
      " |      \n",
      " |      See also the corresponding attribute of the derived class of interest.\n",
      " |  \n",
      " |  prod(...)\n",
      " |      Not implemented (virtual attribute)\n",
      " |      \n",
      " |      Class generic exists solely to derive numpy scalars from, and possesses,\n",
      " |      albeit unimplemented, all the attributes of the ndarray class\n",
      " |      so as to provide a uniform API.\n",
      " |      \n",
      " |      See also the corresponding attribute of the derived class of interest.\n",
      " |  \n",
      " |  ptp(...)\n",
      " |      Not implemented (virtual attribute)\n",
      " |      \n",
      " |      Class generic exists solely to derive numpy scalars from, and possesses,\n",
      " |      albeit unimplemented, all the attributes of the ndarray class\n",
      " |      so as to provide a uniform API.\n",
      " |      \n",
      " |      See also the corresponding attribute of the derived class of interest.\n",
      " |  \n",
      " |  put(...)\n",
      " |      Not implemented (virtual attribute)\n",
      " |      \n",
      " |      Class generic exists solely to derive numpy scalars from, and possesses,\n",
      " |      albeit unimplemented, all the attributes of the ndarray class\n",
      " |      so as to provide a uniform API.\n",
      " |      \n",
      " |      See also the corresponding attribute of the derived class of interest.\n",
      " |  \n",
      " |  ravel(...)\n",
      " |      Not implemented (virtual attribute)\n",
      " |      \n",
      " |      Class generic exists solely to derive numpy scalars from, and possesses,\n",
      " |      albeit unimplemented, all the attributes of the ndarray class\n",
      " |      so as to provide a uniform API.\n",
      " |      \n",
      " |      See also the corresponding attribute of the derived class of interest.\n",
      " |  \n",
      " |  repeat(...)\n",
      " |      Not implemented (virtual attribute)\n",
      " |      \n",
      " |      Class generic exists solely to derive numpy scalars from, and possesses,\n",
      " |      albeit unimplemented, all the attributes of the ndarray class\n",
      " |      so as to provide a uniform API.\n",
      " |      \n",
      " |      See also the corresponding attribute of the derived class of interest.\n",
      " |  \n",
      " |  reshape(...)\n",
      " |      Not implemented (virtual attribute)\n",
      " |      \n",
      " |      Class generic exists solely to derive numpy scalars from, and possesses,\n",
      " |      albeit unimplemented, all the attributes of the ndarray class\n",
      " |      so as to provide a uniform API.\n",
      " |      \n",
      " |      See also the corresponding attribute of the derived class of interest.\n",
      " |  \n",
      " |  resize(...)\n",
      " |      Not implemented (virtual attribute)\n",
      " |      \n",
      " |      Class generic exists solely to derive numpy scalars from, and possesses,\n",
      " |      albeit unimplemented, all the attributes of the ndarray class\n",
      " |      so as to provide a uniform API.\n",
      " |      \n",
      " |      See also the corresponding attribute of the derived class of interest.\n",
      " |  \n",
      " |  round(...)\n",
      " |      Not implemented (virtual attribute)\n",
      " |      \n",
      " |      Class generic exists solely to derive numpy scalars from, and possesses,\n",
      " |      albeit unimplemented, all the attributes of the ndarray class\n",
      " |      so as to provide a uniform API.\n",
      " |      \n",
      " |      See also the corresponding attribute of the derived class of interest.\n",
      " |  \n",
      " |  searchsorted(...)\n",
      " |      Not implemented (virtual attribute)\n",
      " |      \n",
      " |      Class generic exists solely to derive numpy scalars from, and possesses,\n",
      " |      albeit unimplemented, all the attributes of the ndarray class\n",
      " |      so as to provide a uniform API.\n",
      " |      \n",
      " |      See also the corresponding attribute of the derived class of interest.\n",
      " |  \n",
      " |  setfield(...)\n",
      " |      Not implemented (virtual attribute)\n",
      " |      \n",
      " |      Class generic exists solely to derive numpy scalars from, and possesses,\n",
      " |      albeit unimplemented, all the attributes of the ndarray class\n",
      " |      so as to provide a uniform API.\n",
      " |      \n",
      " |      See also the corresponding attribute of the derived class of interest.\n",
      " |  \n",
      " |  setflags(...)\n",
      " |      Not implemented (virtual attribute)\n",
      " |      \n",
      " |      Class generic exists solely to derive numpy scalars from, and possesses,\n",
      " |      albeit unimplemented, all the attributes of the ndarray class so as to\n",
      " |      provide a uniform API.\n",
      " |      \n",
      " |      See also the corresponding attribute of the derived class of interest.\n",
      " |  \n",
      " |  sort(...)\n",
      " |      Not implemented (virtual attribute)\n",
      " |      \n",
      " |      Class generic exists solely to derive numpy scalars from, and possesses,\n",
      " |      albeit unimplemented, all the attributes of the ndarray class\n",
      " |      so as to provide a uniform API.\n",
      " |      \n",
      " |      See also the corresponding attribute of the derived class of interest.\n",
      " |  \n",
      " |  squeeze(...)\n",
      " |      Not implemented (virtual attribute)\n",
      " |      \n",
      " |      Class generic exists solely to derive numpy scalars from, and possesses,\n",
      " |      albeit unimplemented, all the attributes of the ndarray class\n",
      " |      so as to provide a uniform API.\n",
      " |      \n",
      " |      See also the corresponding attribute of the derived class of interest.\n",
      " |  \n",
      " |  std(...)\n",
      " |      Not implemented (virtual attribute)\n",
      " |      \n",
      " |      Class generic exists solely to derive numpy scalars from, and possesses,\n",
      " |      albeit unimplemented, all the attributes of the ndarray class\n",
      " |      so as to provide a uniform API.\n",
      " |      \n",
      " |      See also the corresponding attribute of the derived class of interest.\n",
      " |  \n",
      " |  sum(...)\n",
      " |      Not implemented (virtual attribute)\n",
      " |      \n",
      " |      Class generic exists solely to derive numpy scalars from, and possesses,\n",
      " |      albeit unimplemented, all the attributes of the ndarray class\n",
      " |      so as to provide a uniform API.\n",
      " |      \n",
      " |      See also the corresponding attribute of the derived class of interest.\n",
      " |  \n",
      " |  swapaxes(...)\n",
      " |      Not implemented (virtual attribute)\n",
      " |      \n",
      " |      Class generic exists solely to derive numpy scalars from, and possesses,\n",
      " |      albeit unimplemented, all the attributes of the ndarray class\n",
      " |      so as to provide a uniform API.\n",
      " |      \n",
      " |      See also the corresponding attribute of the derived class of interest.\n",
      " |  \n",
      " |  take(...)\n",
      " |      Not implemented (virtual attribute)\n",
      " |      \n",
      " |      Class generic exists solely to derive numpy scalars from, and possesses,\n",
      " |      albeit unimplemented, all the attributes of the ndarray class\n",
      " |      so as to provide a uniform API.\n",
      " |      \n",
      " |      See also the corresponding attribute of the derived class of interest.\n",
      " |  \n",
      " |  tobytes(...)\n",
      " |  \n",
      " |  tofile(...)\n",
      " |      Not implemented (virtual attribute)\n",
      " |      \n",
      " |      Class generic exists solely to derive numpy scalars from, and possesses,\n",
      " |      albeit unimplemented, all the attributes of the ndarray class\n",
      " |      so as to provide a uniform API.\n",
      " |      \n",
      " |      See also the corresponding attribute of the derived class of interest.\n",
      " |  \n",
      " |  tolist(...)\n",
      " |      Not implemented (virtual attribute)\n",
      " |      \n",
      " |      Class generic exists solely to derive numpy scalars from, and possesses,\n",
      " |      albeit unimplemented, all the attributes of the ndarray class\n",
      " |      so as to provide a uniform API.\n",
      " |      \n",
      " |      See also the corresponding attribute of the derived class of interest.\n",
      " |  \n",
      " |  tostring(...)\n",
      " |      Not implemented (virtual attribute)\n",
      " |      \n",
      " |      Class generic exists solely to derive numpy scalars from, and possesses,\n",
      " |      albeit unimplemented, all the attributes of the ndarray class\n",
      " |      so as to provide a uniform API.\n",
      " |      \n",
      " |      See also the corresponding attribute of the derived class of interest.\n",
      " |  \n",
      " |  trace(...)\n",
      " |      Not implemented (virtual attribute)\n",
      " |      \n",
      " |      Class generic exists solely to derive numpy scalars from, and possesses,\n",
      " |      albeit unimplemented, all the attributes of the ndarray class\n",
      " |      so as to provide a uniform API.\n",
      " |      \n",
      " |      See also the corresponding attribute of the derived class of interest.\n",
      " |  \n",
      " |  transpose(...)\n",
      " |      Not implemented (virtual attribute)\n",
      " |      \n",
      " |      Class generic exists solely to derive numpy scalars from, and possesses,\n",
      " |      albeit unimplemented, all the attributes of the ndarray class\n",
      " |      so as to provide a uniform API.\n",
      " |      \n",
      " |      See also the corresponding attribute of the derived class of interest.\n",
      " |  \n",
      " |  var(...)\n",
      " |      Not implemented (virtual attribute)\n",
      " |      \n",
      " |      Class generic exists solely to derive numpy scalars from, and possesses,\n",
      " |      albeit unimplemented, all the attributes of the ndarray class\n",
      " |      so as to provide a uniform API.\n",
      " |      \n",
      " |      See also the corresponding attribute of the derived class of interest.\n",
      " |  \n",
      " |  view(...)\n",
      " |      Not implemented (virtual attribute)\n",
      " |      \n",
      " |      Class generic exists solely to derive numpy scalars from, and possesses,\n",
      " |      albeit unimplemented, all the attributes of the ndarray class\n",
      " |      so as to provide a uniform API.\n",
      " |      \n",
      " |      See also the corresponding attribute of the derived class of interest.\n",
      " |  \n",
      " |  ----------------------------------------------------------------------\n",
      " |  Data descriptors inherited from generic:\n",
      " |  \n",
      " |  T\n",
      " |      transpose\n",
      " |  \n",
      " |  __array_interface__\n",
      " |      Array protocol: Python side\n",
      " |  \n",
      " |  __array_priority__\n",
      " |      Array priority.\n",
      " |  \n",
      " |  __array_struct__\n",
      " |      Array protocol: struct\n",
      " |  \n",
      " |  base\n",
      " |      base object\n",
      " |  \n",
      " |  data\n",
      " |      pointer to start of data\n",
      " |  \n",
      " |  dtype\n",
      " |      get array data-descriptor\n",
      " |  \n",
      " |  flags\n",
      " |      integer value of flags\n",
      " |  \n",
      " |  flat\n",
      " |      a 1-d view of scalar\n",
      " |  \n",
      " |  imag\n",
      " |      imaginary part of scalar\n",
      " |  \n",
      " |  itemsize\n",
      " |      length of one element in bytes\n",
      " |  \n",
      " |  nbytes\n",
      " |      length of item in bytes\n",
      " |  \n",
      " |  ndim\n",
      " |      number of array dimensions\n",
      " |  \n",
      " |  real\n",
      " |      real part of scalar\n",
      " |  \n",
      " |  shape\n",
      " |      tuple of array dimensions\n",
      " |  \n",
      " |  size\n",
      " |      number of elements in the gentype\n",
      " |  \n",
      " |  strides\n",
      " |      tuple of bytes steps in each dimension\n",
      "\n"
     ]
    }
   ],
   "source": [
    "help(mat.sum())"
   ]
  },
  {
   "cell_type": "code",
   "execution_count": null,
   "metadata": {},
   "outputs": [],
   "source": []
  }
 ],
 "metadata": {
  "kernelspec": {
   "display_name": "Python 3",
   "language": "python",
   "name": "python3"
  },
  "language_info": {
   "codemirror_mode": {
    "name": "ipython",
    "version": 3
   },
   "file_extension": ".py",
   "mimetype": "text/x-python",
   "name": "python",
   "nbconvert_exporter": "python",
   "pygments_lexer": "ipython3",
   "version": "3.8.8"
  }
 },
 "nbformat": 4,
 "nbformat_minor": 1
}
