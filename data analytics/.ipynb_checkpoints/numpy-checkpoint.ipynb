{
 "cells": [
  {
   "cell_type": "code",
   "execution_count": 1,
   "id": "95c01279",
   "metadata": {},
   "outputs": [],
   "source": [
    "#pip install numpy"
   ]
  },
  {
   "cell_type": "code",
   "execution_count": 2,
   "id": "55d667a9",
   "metadata": {},
   "outputs": [],
   "source": [
    "import numpy as np"
   ]
  },
  {
   "cell_type": "markdown",
   "id": "0d7e6998",
   "metadata": {},
   "source": [
    "## Creating Arrays"
   ]
  },
  {
   "cell_type": "code",
   "execution_count": 3,
   "id": "a4bdbc59",
   "metadata": {},
   "outputs": [
    {
     "data": {
      "text/plain": [
       "[1, 2, 3, 4, 5]"
      ]
     },
     "execution_count": 3,
     "metadata": {},
     "output_type": "execute_result"
    }
   ],
   "source": [
    "myList = [1, 2, 3, 4, 5]\n",
    "myList"
   ]
  },
  {
   "cell_type": "code",
   "execution_count": 4,
   "id": "7f4aa576",
   "metadata": {},
   "outputs": [
    {
     "data": {
      "text/plain": [
       "array([1, 2, 3, 4, 5])"
      ]
     },
     "execution_count": 4,
     "metadata": {},
     "output_type": "execute_result"
    }
   ],
   "source": [
    "arr1 = np.array(myList) #One-dimensional array/Vector\n",
    "arr1"
   ]
  },
  {
   "cell_type": "code",
   "execution_count": 5,
   "id": "c8aa6048",
   "metadata": {},
   "outputs": [
    {
     "data": {
      "text/plain": [
       "(5,)"
      ]
     },
     "execution_count": 5,
     "metadata": {},
     "output_type": "execute_result"
    }
   ],
   "source": [
    "arr1.shape"
   ]
  },
  {
   "cell_type": "code",
   "execution_count": 6,
   "id": "9258c9ce",
   "metadata": {},
   "outputs": [
    {
     "data": {
      "text/plain": [
       "[[1, 2, 3], [4, 5, 6], [7, 8, 9]]"
      ]
     },
     "execution_count": 6,
     "metadata": {},
     "output_type": "execute_result"
    }
   ],
   "source": [
    "myNestedList = [[1, 2, 3], [4, 5, 6], [7, 8, 9]]\n",
    "myNestedList"
   ]
  },
  {
   "cell_type": "code",
   "execution_count": 7,
   "id": "1aa5dc49",
   "metadata": {},
   "outputs": [
    {
     "data": {
      "text/plain": [
       "array([[1, 2, 3],\n",
       "       [4, 5, 6],\n",
       "       [7, 8, 9]])"
      ]
     },
     "execution_count": 7,
     "metadata": {},
     "output_type": "execute_result"
    }
   ],
   "source": [
    "arr2 = np.array(myNestedList) #Two dimensional array/Matrix\n",
    "arr2"
   ]
  },
  {
   "cell_type": "code",
   "execution_count": 8,
   "id": "a5eaa6e7",
   "metadata": {},
   "outputs": [
    {
     "data": {
      "text/plain": [
       "(3, 3)"
      ]
     },
     "execution_count": 8,
     "metadata": {},
     "output_type": "execute_result"
    }
   ],
   "source": [
    "arr2.shape"
   ]
  },
  {
   "cell_type": "code",
   "execution_count": 9,
   "id": "fba69226",
   "metadata": {},
   "outputs": [
    {
     "data": {
      "text/plain": [
       "array([[1, 2, 3, 4],\n",
       "       [5, 6, 7, 8]])"
      ]
     },
     "execution_count": 9,
     "metadata": {},
     "output_type": "execute_result"
    }
   ],
   "source": [
    "l1 = [1, 2, 3, 4]\n",
    "l2 = [5, 6, 7, 8]\n",
    "\n",
    "np.array([l1,l2])"
   ]
  },
  {
   "cell_type": "code",
   "execution_count": 10,
   "id": "f85f6f99",
   "metadata": {},
   "outputs": [
    {
     "data": {
      "text/plain": [
       "array([  1,   2,   3,   4,   5,   6,   7,   8,   9,  10,  11,  12,  13,\n",
       "        14,  15,  16,  17,  18,  19,  20,  21,  22,  23,  24,  25,  26,\n",
       "        27,  28,  29,  30,  31,  32,  33,  34,  35,  36,  37,  38,  39,\n",
       "        40,  41,  42,  43,  44,  45,  46,  47,  48,  49,  50,  51,  52,\n",
       "        53,  54,  55,  56,  57,  58,  59,  60,  61,  62,  63,  64,  65,\n",
       "        66,  67,  68,  69,  70,  71,  72,  73,  74,  75,  76,  77,  78,\n",
       "        79,  80,  81,  82,  83,  84,  85,  86,  87,  88,  89,  90,  91,\n",
       "        92,  93,  94,  95,  96,  97,  98,  99, 100])"
      ]
     },
     "execution_count": 10,
     "metadata": {},
     "output_type": "execute_result"
    }
   ],
   "source": [
    "np.arange(1, 101)"
   ]
  },
  {
   "cell_type": "code",
   "execution_count": 11,
   "id": "50675a7c",
   "metadata": {},
   "outputs": [
    {
     "data": {
      "text/plain": [
       "array([ 1,  5,  9, 13, 17, 21, 25, 29, 33, 37, 41, 45, 49, 53, 57, 61, 65,\n",
       "       69, 73, 77, 81, 85, 89, 93, 97])"
      ]
     },
     "execution_count": 11,
     "metadata": {},
     "output_type": "execute_result"
    }
   ],
   "source": [
    "np.arange(1, 101, 4)"
   ]
  },
  {
   "cell_type": "code",
   "execution_count": 12,
   "id": "3fb7fc59",
   "metadata": {},
   "outputs": [
    {
     "data": {
      "text/plain": [
       "array([0., 0., 0., 0., 0., 0., 0., 0., 0., 0.])"
      ]
     },
     "execution_count": 12,
     "metadata": {},
     "output_type": "execute_result"
    }
   ],
   "source": [
    "np.zeros(10)"
   ]
  },
  {
   "cell_type": "code",
   "execution_count": 13,
   "id": "0adb8d41",
   "metadata": {},
   "outputs": [
    {
     "data": {
      "text/plain": [
       "array([[0., 0., 0., 0., 0., 0., 0., 0., 0., 0.],\n",
       "       [0., 0., 0., 0., 0., 0., 0., 0., 0., 0.],\n",
       "       [0., 0., 0., 0., 0., 0., 0., 0., 0., 0.],\n",
       "       [0., 0., 0., 0., 0., 0., 0., 0., 0., 0.],\n",
       "       [0., 0., 0., 0., 0., 0., 0., 0., 0., 0.]])"
      ]
     },
     "execution_count": 13,
     "metadata": {},
     "output_type": "execute_result"
    }
   ],
   "source": [
    "np.zeros((5, 10))"
   ]
  },
  {
   "cell_type": "code",
   "execution_count": 14,
   "id": "6b37324c",
   "metadata": {},
   "outputs": [
    {
     "data": {
      "text/plain": [
       "array([1., 1., 1., 1., 1.])"
      ]
     },
     "execution_count": 14,
     "metadata": {},
     "output_type": "execute_result"
    }
   ],
   "source": [
    "np.ones(5)"
   ]
  },
  {
   "cell_type": "code",
   "execution_count": 15,
   "id": "c0ea846f",
   "metadata": {},
   "outputs": [
    {
     "data": {
      "text/plain": [
       "array([[1., 1., 1., 1., 1., 1., 1., 1., 1., 1.],\n",
       "       [1., 1., 1., 1., 1., 1., 1., 1., 1., 1.],\n",
       "       [1., 1., 1., 1., 1., 1., 1., 1., 1., 1.],\n",
       "       [1., 1., 1., 1., 1., 1., 1., 1., 1., 1.],\n",
       "       [1., 1., 1., 1., 1., 1., 1., 1., 1., 1.]])"
      ]
     },
     "execution_count": 15,
     "metadata": {},
     "output_type": "execute_result"
    }
   ],
   "source": [
    "np.ones((5, 10))"
   ]
  },
  {
   "cell_type": "code",
   "execution_count": 16,
   "id": "1da2b6f5",
   "metadata": {},
   "outputs": [
    {
     "data": {
      "text/plain": [
       "array([[1, 1, 1, 1, 1, 1, 1, 1, 1, 1],\n",
       "       [1, 1, 1, 1, 1, 1, 1, 1, 1, 1],\n",
       "       [1, 1, 1, 1, 1, 1, 1, 1, 1, 1],\n",
       "       [1, 1, 1, 1, 1, 1, 1, 1, 1, 1],\n",
       "       [1, 1, 1, 1, 1, 1, 1, 1, 1, 1]])"
      ]
     },
     "execution_count": 16,
     "metadata": {},
     "output_type": "execute_result"
    }
   ],
   "source": [
    "np.ones((5, 10), dtype=int)"
   ]
  },
  {
   "cell_type": "code",
   "execution_count": 17,
   "id": "e952ba58",
   "metadata": {},
   "outputs": [
    {
     "data": {
      "text/plain": [
       "array([[15, 15, 15, 15, 15],\n",
       "       [15, 15, 15, 15, 15],\n",
       "       [15, 15, 15, 15, 15]])"
      ]
     },
     "execution_count": 17,
     "metadata": {},
     "output_type": "execute_result"
    }
   ],
   "source": [
    "np.full((3, 5), 15)"
   ]
  },
  {
   "cell_type": "markdown",
   "id": "f9fd2101",
   "metadata": {},
   "source": [
    "## Random Arrays"
   ]
  },
  {
   "cell_type": "code",
   "execution_count": 18,
   "id": "55688cac",
   "metadata": {},
   "outputs": [
    {
     "data": {
      "text/plain": [
       "array([[0.28997436, 0.0794484 , 0.23303345, 0.82174035, 0.62874597],\n",
       "       [0.94791167, 0.65479003, 0.52977539, 0.00374323, 0.14854484],\n",
       "       [0.51141167, 0.03032019, 0.14041527, 0.94856008, 0.16927575]])"
      ]
     },
     "execution_count": 18,
     "metadata": {},
     "output_type": "execute_result"
    }
   ],
   "source": [
    "#Between 0 and 1\n",
    "np.random.rand(3, 5)"
   ]
  },
  {
   "cell_type": "code",
   "execution_count": 19,
   "id": "0f023f2d",
   "metadata": {},
   "outputs": [
    {
     "data": {
      "text/plain": [
       "array([[[0.67310839, 0.7137266 , 0.97367239, 0.96967592, 0.55703329,\n",
       "         0.48443222, 0.57060426, 0.29380059, 0.93614265, 0.52375631],\n",
       "        [0.24353522, 0.83651991, 0.72210437, 0.06279046, 0.08194981,\n",
       "         0.52393829, 0.6806282 , 0.68942297, 0.54287968, 0.79437576],\n",
       "        [0.11810874, 0.9335991 , 0.38980048, 0.29522065, 0.65083568,\n",
       "         0.17104411, 0.76674334, 0.17726336, 0.83631601, 0.97584434],\n",
       "        [0.12669385, 0.54849145, 0.23832219, 0.10178245, 0.71692481,\n",
       "         0.543468  , 0.79686594, 0.95306602, 0.60826299, 0.94281284],\n",
       "        [0.08245081, 0.60824544, 0.9223637 , 0.5884434 , 0.64514759,\n",
       "         0.37899818, 0.49945509, 0.24689388, 0.19420986, 0.01432995]],\n",
       "\n",
       "       [[0.76295577, 0.67088433, 0.54559052, 0.6299615 , 0.76449594,\n",
       "         0.77602247, 0.34549059, 0.72819431, 0.65320141, 0.4375008 ],\n",
       "        [0.21347451, 0.18677073, 0.28849615, 0.15383189, 0.1859329 ,\n",
       "         0.98211644, 0.56280666, 0.95861785, 0.77606492, 0.79907687],\n",
       "        [0.37181494, 0.06963331, 0.74827901, 0.67394874, 0.42558132,\n",
       "         0.95034948, 0.8212555 , 0.83603603, 0.83833157, 0.01005935],\n",
       "        [0.15855004, 0.34752055, 0.0519876 , 0.00755011, 0.26701072,\n",
       "         0.70384296, 0.2546353 , 0.66018146, 0.58206894, 0.63434133],\n",
       "        [0.38689728, 0.39500944, 0.69748442, 0.91064328, 0.90804746,\n",
       "         0.86630552, 0.82640016, 0.18781867, 0.53556605, 0.31405903]],\n",
       "\n",
       "       [[0.54861053, 0.74712171, 0.03373465, 0.01821367, 0.2672878 ,\n",
       "         0.91161725, 0.04366855, 0.13065125, 0.36413517, 0.05618214],\n",
       "        [0.42446155, 0.04360511, 0.70926308, 0.94677003, 0.0947544 ,\n",
       "         0.84686342, 0.37906528, 0.69550178, 0.3966998 , 0.81029512],\n",
       "        [0.05725356, 0.54383733, 0.75970275, 0.94744561, 0.73701219,\n",
       "         0.56157632, 0.01641931, 0.53178343, 0.13330959, 0.10221296],\n",
       "        [0.58006101, 0.06609893, 0.61549506, 0.81404742, 0.10198575,\n",
       "         0.35932203, 0.28832866, 0.55197454, 0.00808243, 0.42995532],\n",
       "        [0.0400453 , 0.65031184, 0.23122819, 0.35841665, 0.33165673,\n",
       "         0.71443052, 0.12206783, 0.2949886 , 0.21772732, 0.93462151]]])"
      ]
     },
     "execution_count": 19,
     "metadata": {},
     "output_type": "execute_result"
    }
   ],
   "source": [
    "np.random.rand(3, 5, 10) #Tensor"
   ]
  },
  {
   "cell_type": "code",
   "execution_count": 20,
   "id": "d9a0f1c6",
   "metadata": {},
   "outputs": [
    {
     "data": {
      "text/plain": [
       "array([43, 29, 22, 40, 98, 66, 42, 90,  4, 38])"
      ]
     },
     "execution_count": 20,
     "metadata": {},
     "output_type": "execute_result"
    }
   ],
   "source": [
    "np.random.randint(1, 100, 10)"
   ]
  },
  {
   "cell_type": "code",
   "execution_count": 21,
   "id": "2f6d06e6",
   "metadata": {},
   "outputs": [
    {
     "data": {
      "text/plain": [
       "array([[ 8, 71, 89, 99, 99],\n",
       "       [78, 49, 95, 34, 26],\n",
       "       [ 1, 79, 54, 89, 93],\n",
       "       [16, 52, 19, 69,  6],\n",
       "       [20, 75, 84, 62, 44],\n",
       "       [60, 41, 92, 70, 92],\n",
       "       [33, 53, 61, 89, 76],\n",
       "       [10, 46, 86, 66, 43],\n",
       "       [96, 28, 48, 98, 58],\n",
       "       [23, 47, 22, 73, 59]])"
      ]
     },
     "execution_count": 21,
     "metadata": {},
     "output_type": "execute_result"
    }
   ],
   "source": [
    "rArr = np.random.randint(1, 100, (10, 5))\n",
    "rArr"
   ]
  },
  {
   "cell_type": "code",
   "execution_count": 22,
   "id": "3ba064de",
   "metadata": {},
   "outputs": [
    {
     "data": {
      "text/plain": [
       "1"
      ]
     },
     "execution_count": 22,
     "metadata": {},
     "output_type": "execute_result"
    }
   ],
   "source": [
    "rArr.min()"
   ]
  },
  {
   "cell_type": "code",
   "execution_count": 23,
   "id": "238d0fc0",
   "metadata": {},
   "outputs": [
    {
     "data": {
      "text/plain": [
       "99"
      ]
     },
     "execution_count": 23,
     "metadata": {},
     "output_type": "execute_result"
    }
   ],
   "source": [
    "rArr.max()"
   ]
  },
  {
   "cell_type": "code",
   "execution_count": 24,
   "id": "481522e9",
   "metadata": {},
   "outputs": [
    {
     "data": {
      "text/plain": [
       "10"
      ]
     },
     "execution_count": 24,
     "metadata": {},
     "output_type": "execute_result"
    }
   ],
   "source": [
    "rArr.argmin()"
   ]
  },
  {
   "cell_type": "code",
   "execution_count": 25,
   "id": "ec186aab",
   "metadata": {},
   "outputs": [
    {
     "data": {
      "text/plain": [
       "3"
      ]
     },
     "execution_count": 25,
     "metadata": {},
     "output_type": "execute_result"
    }
   ],
   "source": [
    "rArr.argmax()"
   ]
  },
  {
   "cell_type": "markdown",
   "id": "b6e110d1",
   "metadata": {},
   "source": [
    "## Reshaping Arrays"
   ]
  },
  {
   "cell_type": "code",
   "execution_count": 26,
   "id": "298bf342",
   "metadata": {},
   "outputs": [
    {
     "data": {
      "text/plain": [
       "array([ 0,  1,  2,  3,  4,  5,  6,  7,  8,  9, 10, 11, 12, 13, 14, 15, 16,\n",
       "       17, 18, 19, 20, 21, 22, 23, 24])"
      ]
     },
     "execution_count": 26,
     "metadata": {},
     "output_type": "execute_result"
    }
   ],
   "source": [
    "arr = np.arange(25)\n",
    "arr"
   ]
  },
  {
   "cell_type": "code",
   "execution_count": 27,
   "id": "7512a699",
   "metadata": {},
   "outputs": [
    {
     "data": {
      "text/plain": [
       "array([[ 0,  1,  2,  3,  4],\n",
       "       [ 5,  6,  7,  8,  9],\n",
       "       [10, 11, 12, 13, 14],\n",
       "       [15, 16, 17, 18, 19],\n",
       "       [20, 21, 22, 23, 24]])"
      ]
     },
     "execution_count": 27,
     "metadata": {},
     "output_type": "execute_result"
    }
   ],
   "source": [
    "arr.reshape(5, 5)"
   ]
  },
  {
   "cell_type": "code",
   "execution_count": 28,
   "id": "454b6cb9",
   "metadata": {},
   "outputs": [
    {
     "data": {
      "text/plain": [
       "array([ 0,  1,  2,  3,  4,  5,  6,  7,  8,  9, 10, 11])"
      ]
     },
     "execution_count": 28,
     "metadata": {},
     "output_type": "execute_result"
    }
   ],
   "source": [
    "arr = np.arange(12)\n",
    "arr"
   ]
  },
  {
   "cell_type": "code",
   "execution_count": 29,
   "id": "07745440",
   "metadata": {},
   "outputs": [
    {
     "data": {
      "text/plain": [
       "array([[ 0,  1],\n",
       "       [ 2,  3],\n",
       "       [ 4,  5],\n",
       "       [ 6,  7],\n",
       "       [ 8,  9],\n",
       "       [10, 11]])"
      ]
     },
     "execution_count": 29,
     "metadata": {},
     "output_type": "execute_result"
    }
   ],
   "source": [
    "arr.reshape(6, 2)"
   ]
  },
  {
   "cell_type": "code",
   "execution_count": 30,
   "id": "2ac83c9e",
   "metadata": {},
   "outputs": [
    {
     "data": {
      "text/plain": [
       "array([[ 0,  1,  2,  3],\n",
       "       [ 4,  5,  6,  7],\n",
       "       [ 8,  9, 10, 11]])"
      ]
     },
     "execution_count": 30,
     "metadata": {},
     "output_type": "execute_result"
    }
   ],
   "source": [
    "arr.reshape(3, 4)"
   ]
  },
  {
   "cell_type": "code",
   "execution_count": 31,
   "id": "8af7b3ac",
   "metadata": {},
   "outputs": [
    {
     "data": {
      "text/plain": [
       "array([[ 0],\n",
       "       [ 1],\n",
       "       [ 2],\n",
       "       [ 3],\n",
       "       [ 4],\n",
       "       [ 5],\n",
       "       [ 6],\n",
       "       [ 7],\n",
       "       [ 8],\n",
       "       [ 9],\n",
       "       [10],\n",
       "       [11]])"
      ]
     },
     "execution_count": 31,
     "metadata": {},
     "output_type": "execute_result"
    }
   ],
   "source": [
    "arr.reshape(12, 1)"
   ]
  },
  {
   "cell_type": "code",
   "execution_count": 32,
   "id": "e270ecaa",
   "metadata": {},
   "outputs": [
    {
     "data": {
      "text/plain": [
       "array([[ 0,  1,  2,  3,  4,  5],\n",
       "       [ 6,  7,  8,  9, 10, 11]])"
      ]
     },
     "execution_count": 32,
     "metadata": {},
     "output_type": "execute_result"
    }
   ],
   "source": [
    "arr.reshape(2, -1)"
   ]
  },
  {
   "cell_type": "code",
   "execution_count": 33,
   "id": "656cd615",
   "metadata": {},
   "outputs": [
    {
     "data": {
      "text/plain": [
       "array([[ 0,  1,  2,  3],\n",
       "       [ 4,  5,  6,  7],\n",
       "       [ 8,  9, 10, 11]])"
      ]
     },
     "execution_count": 33,
     "metadata": {},
     "output_type": "execute_result"
    }
   ],
   "source": [
    "arr.reshape(-1, 4)"
   ]
  },
  {
   "cell_type": "code",
   "execution_count": 34,
   "id": "84a63144",
   "metadata": {},
   "outputs": [
    {
     "data": {
      "text/plain": [
       "array([[ 0,  1,  2,  3,  4],\n",
       "       [ 5,  6,  7,  8,  9],\n",
       "       [10, 11, 12, 13, 14],\n",
       "       [15, 16, 17, 18, 19],\n",
       "       [20, 21, 22, 23, 24]])"
      ]
     },
     "execution_count": 34,
     "metadata": {},
     "output_type": "execute_result"
    }
   ],
   "source": [
    "np.arange(25).reshape(5, 5)"
   ]
  },
  {
   "cell_type": "markdown",
   "id": "2369bb2e",
   "metadata": {},
   "source": [
    "## Indexing"
   ]
  },
  {
   "cell_type": "code",
   "execution_count": 35,
   "id": "68221702",
   "metadata": {},
   "outputs": [
    {
     "data": {
      "text/plain": [
       "array([ 0,  1,  2,  3,  4,  5,  6,  7,  8,  9, 10, 11])"
      ]
     },
     "execution_count": 35,
     "metadata": {},
     "output_type": "execute_result"
    }
   ],
   "source": [
    "arr"
   ]
  },
  {
   "cell_type": "code",
   "execution_count": 36,
   "id": "0e77a0fc",
   "metadata": {},
   "outputs": [
    {
     "data": {
      "text/plain": [
       "6"
      ]
     },
     "execution_count": 36,
     "metadata": {},
     "output_type": "execute_result"
    }
   ],
   "source": [
    "arr[6]"
   ]
  },
  {
   "cell_type": "code",
   "execution_count": 37,
   "id": "e1be2ed2",
   "metadata": {},
   "outputs": [
    {
     "data": {
      "text/plain": [
       "array([0, 1, 2, 3, 4, 5])"
      ]
     },
     "execution_count": 37,
     "metadata": {},
     "output_type": "execute_result"
    }
   ],
   "source": [
    "arr[:6]"
   ]
  },
  {
   "cell_type": "code",
   "execution_count": 38,
   "id": "e4232344",
   "metadata": {},
   "outputs": [
    {
     "data": {
      "text/plain": [
       "array([2, 3, 4, 5, 6, 7])"
      ]
     },
     "execution_count": 38,
     "metadata": {},
     "output_type": "execute_result"
    }
   ],
   "source": [
    "arr[2:8]"
   ]
  },
  {
   "cell_type": "code",
   "execution_count": 39,
   "id": "2328d0ed",
   "metadata": {},
   "outputs": [
    {
     "data": {
      "text/plain": [
       "array([11, 10,  9,  8,  7,  6,  5,  4,  3,  2,  1,  0])"
      ]
     },
     "execution_count": 39,
     "metadata": {},
     "output_type": "execute_result"
    }
   ],
   "source": [
    "arr[::-1]"
   ]
  },
  {
   "cell_type": "code",
   "execution_count": 40,
   "id": "d7bdf6cc",
   "metadata": {},
   "outputs": [
    {
     "data": {
      "text/plain": [
       "array([[ 8, 71, 89, 99, 99],\n",
       "       [78, 49, 95, 34, 26],\n",
       "       [ 1, 79, 54, 89, 93],\n",
       "       [16, 52, 19, 69,  6],\n",
       "       [20, 75, 84, 62, 44],\n",
       "       [60, 41, 92, 70, 92],\n",
       "       [33, 53, 61, 89, 76],\n",
       "       [10, 46, 86, 66, 43],\n",
       "       [96, 28, 48, 98, 58],\n",
       "       [23, 47, 22, 73, 59]])"
      ]
     },
     "execution_count": 40,
     "metadata": {},
     "output_type": "execute_result"
    }
   ],
   "source": [
    "rArr"
   ]
  },
  {
   "cell_type": "code",
   "execution_count": 41,
   "id": "1c0df301",
   "metadata": {},
   "outputs": [
    {
     "data": {
      "text/plain": [
       "array([78, 49, 95, 34, 26])"
      ]
     },
     "execution_count": 41,
     "metadata": {},
     "output_type": "execute_result"
    }
   ],
   "source": [
    "rArr[1]"
   ]
  },
  {
   "cell_type": "code",
   "execution_count": 42,
   "id": "7391568f",
   "metadata": {},
   "outputs": [
    {
     "data": {
      "text/plain": [
       "34"
      ]
     },
     "execution_count": 42,
     "metadata": {},
     "output_type": "execute_result"
    }
   ],
   "source": [
    "rArr[1][3]"
   ]
  },
  {
   "cell_type": "markdown",
   "id": "19353045",
   "metadata": {},
   "source": [
    "## Sorting Arrays"
   ]
  },
  {
   "cell_type": "code",
   "execution_count": 43,
   "id": "31eb0c11",
   "metadata": {},
   "outputs": [
    {
     "data": {
      "text/plain": [
       "array([14, 63, 60, 96, 82, 34, 11,  6, 19, 23])"
      ]
     },
     "execution_count": 43,
     "metadata": {},
     "output_type": "execute_result"
    }
   ],
   "source": [
    "unsortedArr = np.random.randint(1, 100, 10)\n",
    "unsortedArr"
   ]
  },
  {
   "cell_type": "code",
   "execution_count": 44,
   "id": "b3bf3af4",
   "metadata": {},
   "outputs": [],
   "source": [
    "unsortedArr.sort()"
   ]
  },
  {
   "cell_type": "code",
   "execution_count": 45,
   "id": "e1cd3941",
   "metadata": {},
   "outputs": [
    {
     "data": {
      "text/plain": [
       "array([ 6, 11, 14, 19, 23, 34, 60, 63, 82, 96])"
      ]
     },
     "execution_count": 45,
     "metadata": {},
     "output_type": "execute_result"
    }
   ],
   "source": [
    "unsortedArr"
   ]
  },
  {
   "cell_type": "code",
   "execution_count": 46,
   "id": "0b2f35c0",
   "metadata": {},
   "outputs": [
    {
     "data": {
      "text/plain": [
       "numpy.ndarray"
      ]
     },
     "execution_count": 46,
     "metadata": {},
     "output_type": "execute_result"
    }
   ],
   "source": [
    "type(unsortedArr)"
   ]
  },
  {
   "cell_type": "code",
   "execution_count": 47,
   "id": "bbf79f90",
   "metadata": {},
   "outputs": [
    {
     "data": {
      "text/plain": [
       "array([59, 77, 90, 49, 14, 83, 37, 45, 26, 96])"
      ]
     },
     "execution_count": 47,
     "metadata": {},
     "output_type": "execute_result"
    }
   ],
   "source": [
    "unsortedArr = np.random.randint(1, 100, 10)\n",
    "unsortedArr"
   ]
  },
  {
   "cell_type": "code",
   "execution_count": 48,
   "id": "2b9e7f7f",
   "metadata": {},
   "outputs": [
    {
     "data": {
      "text/plain": [
       "[14, 26, 37, 45, 49, 59, 77, 83, 90, 96]"
      ]
     },
     "execution_count": 48,
     "metadata": {},
     "output_type": "execute_result"
    }
   ],
   "source": [
    "sorted(unsortedArr)"
   ]
  },
  {
   "cell_type": "code",
   "execution_count": 49,
   "id": "50d3d695",
   "metadata": {},
   "outputs": [
    {
     "data": {
      "text/plain": [
       "array([59, 77, 90, 49, 14, 83, 37, 45, 26, 96])"
      ]
     },
     "execution_count": 49,
     "metadata": {},
     "output_type": "execute_result"
    }
   ],
   "source": [
    "unsortedArr"
   ]
  },
  {
   "cell_type": "code",
   "execution_count": 50,
   "id": "d848eded",
   "metadata": {},
   "outputs": [
    {
     "data": {
      "text/plain": [
       "[96, 90, 83, 77, 59, 49, 45, 37, 26, 14]"
      ]
     },
     "execution_count": 50,
     "metadata": {},
     "output_type": "execute_result"
    }
   ],
   "source": [
    "sorted(unsortedArr, reverse=True)"
   ]
  },
  {
   "cell_type": "code",
   "execution_count": 51,
   "id": "e4c7a81c",
   "metadata": {},
   "outputs": [
    {
     "data": {
      "text/plain": [
       "array([96, 90, 83, 77, 59, 49, 45, 37, 26, 14])"
      ]
     },
     "execution_count": 51,
     "metadata": {},
     "output_type": "execute_result"
    }
   ],
   "source": [
    "np.array(sorted(unsortedArr, reverse=True))"
   ]
  },
  {
   "cell_type": "code",
   "execution_count": 52,
   "id": "4e335069",
   "metadata": {},
   "outputs": [
    {
     "data": {
      "text/plain": [
       "list"
      ]
     },
     "execution_count": 52,
     "metadata": {},
     "output_type": "execute_result"
    }
   ],
   "source": [
    "type(sorted(unsortedArr, reverse=True))"
   ]
  },
  {
   "cell_type": "markdown",
   "id": "96f06c9e",
   "metadata": {},
   "source": [
    "## Broadcasting"
   ]
  },
  {
   "cell_type": "code",
   "execution_count": 53,
   "id": "e30bd25e",
   "metadata": {},
   "outputs": [
    {
     "data": {
      "text/plain": [
       "[1, 2, 3, 4, 5, 6, 7, 8, 9, 10]"
      ]
     },
     "execution_count": 53,
     "metadata": {},
     "output_type": "execute_result"
    }
   ],
   "source": [
    "myList = list(range(1,11))\n",
    "myList"
   ]
  },
  {
   "cell_type": "code",
   "execution_count": 54,
   "id": "7ac9627d",
   "metadata": {},
   "outputs": [
    {
     "data": {
      "text/plain": [
       "[3, 4, 5, 6]"
      ]
     },
     "execution_count": 54,
     "metadata": {},
     "output_type": "execute_result"
    }
   ],
   "source": [
    "myList[2:6]"
   ]
  },
  {
   "cell_type": "code",
   "execution_count": 55,
   "id": "1e08a9df",
   "metadata": {},
   "outputs": [
    {
     "ename": "TypeError",
     "evalue": "can only assign an iterable",
     "output_type": "error",
     "traceback": [
      "\u001b[0;31m---------------------------------------------------------------------------\u001b[0m",
      "\u001b[0;31mTypeError\u001b[0m                                 Traceback (most recent call last)",
      "\u001b[0;32m<ipython-input-55-9da6cb3ead9d>\u001b[0m in \u001b[0;36m<module>\u001b[0;34m\u001b[0m\n\u001b[0;32m----> 1\u001b[0;31m \u001b[0mmyList\u001b[0m\u001b[0;34m[\u001b[0m\u001b[0;36m2\u001b[0m\u001b[0;34m:\u001b[0m\u001b[0;36m6\u001b[0m\u001b[0;34m]\u001b[0m \u001b[0;34m=\u001b[0m \u001b[0;36m100\u001b[0m\u001b[0;34m\u001b[0m\u001b[0;34m\u001b[0m\u001b[0m\n\u001b[0m",
      "\u001b[0;31mTypeError\u001b[0m: can only assign an iterable"
     ]
    }
   ],
   "source": [
    "myList[2:6] = 100"
   ]
  },
  {
   "cell_type": "code",
   "execution_count": 56,
   "id": "776522b7",
   "metadata": {},
   "outputs": [
    {
     "data": {
      "text/plain": [
       "array([ 1,  2,  3,  4,  5,  6,  7,  8,  9, 10])"
      ]
     },
     "execution_count": 56,
     "metadata": {},
     "output_type": "execute_result"
    }
   ],
   "source": [
    "myArray = np.array(myList)\n",
    "myArray"
   ]
  },
  {
   "cell_type": "code",
   "execution_count": 58,
   "id": "91215f17",
   "metadata": {},
   "outputs": [
    {
     "data": {
      "text/plain": [
       "array([3, 4, 5, 6])"
      ]
     },
     "execution_count": 58,
     "metadata": {},
     "output_type": "execute_result"
    }
   ],
   "source": [
    "myArray[2:6]"
   ]
  },
  {
   "cell_type": "code",
   "execution_count": 59,
   "id": "18334fbb",
   "metadata": {},
   "outputs": [],
   "source": [
    "myArray[2:6] = 100"
   ]
  },
  {
   "cell_type": "code",
   "execution_count": 60,
   "id": "ac31cf5f",
   "metadata": {},
   "outputs": [
    {
     "data": {
      "text/plain": [
       "array([  1,   2, 100, 100, 100, 100,   7,   8,   9,  10])"
      ]
     },
     "execution_count": 60,
     "metadata": {},
     "output_type": "execute_result"
    }
   ],
   "source": [
    "myArray"
   ]
  },
  {
   "cell_type": "markdown",
   "id": "8e031219",
   "metadata": {},
   "source": [
    "## Slicing & Copying"
   ]
  },
  {
   "cell_type": "code",
   "execution_count": 61,
   "id": "50b47682",
   "metadata": {},
   "outputs": [
    {
     "data": {
      "text/plain": [
       "array([ 0,  1,  2,  3,  4,  5,  6,  7,  8,  9, 10])"
      ]
     },
     "execution_count": 61,
     "metadata": {},
     "output_type": "execute_result"
    }
   ],
   "source": [
    "arr = np.arange(11)\n",
    "arr"
   ]
  },
  {
   "cell_type": "code",
   "execution_count": 62,
   "id": "30d4c2e4",
   "metadata": {},
   "outputs": [
    {
     "data": {
      "text/plain": [
       "array([3, 4, 5, 6, 7])"
      ]
     },
     "execution_count": 62,
     "metadata": {},
     "output_type": "execute_result"
    }
   ],
   "source": [
    "sliceOfArr = arr[3:8]\n",
    "sliceOfArr"
   ]
  },
  {
   "cell_type": "code",
   "execution_count": 63,
   "id": "7dff1812",
   "metadata": {},
   "outputs": [
    {
     "data": {
      "text/plain": [
       "array([99, 99, 99, 99, 99])"
      ]
     },
     "execution_count": 63,
     "metadata": {},
     "output_type": "execute_result"
    }
   ],
   "source": [
    "sliceOfArr[:] = 99\n",
    "sliceOfArr"
   ]
  },
  {
   "cell_type": "code",
   "execution_count": 64,
   "id": "4e4a2cb0",
   "metadata": {},
   "outputs": [
    {
     "data": {
      "text/plain": [
       "array([ 0,  1,  2, 99, 99, 99, 99, 99,  8,  9, 10])"
      ]
     },
     "execution_count": 64,
     "metadata": {},
     "output_type": "execute_result"
    }
   ],
   "source": [
    "arr"
   ]
  },
  {
   "cell_type": "code",
   "execution_count": 65,
   "id": "de5fd6fc",
   "metadata": {},
   "outputs": [
    {
     "data": {
      "text/plain": [
       "array([ 0,  1,  2, 99, 99, 99, 99, 99,  8,  9, 10])"
      ]
     },
     "execution_count": 65,
     "metadata": {},
     "output_type": "execute_result"
    }
   ],
   "source": [
    "newArr = arr.copy()\n",
    "newArr"
   ]
  },
  {
   "cell_type": "code",
   "execution_count": 67,
   "id": "59da906d",
   "metadata": {},
   "outputs": [
    {
     "data": {
      "text/plain": [
       "array([100, 100, 100, 100, 100, 100, 100, 100, 100, 100, 100])"
      ]
     },
     "execution_count": 67,
     "metadata": {},
     "output_type": "execute_result"
    }
   ],
   "source": [
    "newArr[:] = 100\n",
    "newArr"
   ]
  },
  {
   "cell_type": "code",
   "execution_count": 68,
   "id": "80ba17c4",
   "metadata": {},
   "outputs": [
    {
     "data": {
      "text/plain": [
       "array([ 0,  1,  2, 99, 99, 99, 99, 99,  8,  9, 10])"
      ]
     },
     "execution_count": 68,
     "metadata": {},
     "output_type": "execute_result"
    }
   ],
   "source": [
    "arr"
   ]
  },
  {
   "cell_type": "markdown",
   "id": "6df1868e",
   "metadata": {},
   "source": [
    "## Slicing a Matrix"
   ]
  },
  {
   "cell_type": "code",
   "execution_count": 69,
   "id": "f722e320",
   "metadata": {},
   "outputs": [
    {
     "data": {
      "text/plain": [
       "array([[ 0,  1,  2,  3],\n",
       "       [ 4,  5,  6,  7],\n",
       "       [ 8,  9, 10, 11]])"
      ]
     },
     "execution_count": 69,
     "metadata": {},
     "output_type": "execute_result"
    }
   ],
   "source": [
    "newArr = np.arange(12).reshape(3, 4)\n",
    "newArr"
   ]
  },
  {
   "cell_type": "code",
   "execution_count": 70,
   "id": "a67287ae",
   "metadata": {},
   "outputs": [
    {
     "data": {
      "text/plain": [
       "array([4, 5, 6, 7])"
      ]
     },
     "execution_count": 70,
     "metadata": {},
     "output_type": "execute_result"
    }
   ],
   "source": [
    "newArr[1]"
   ]
  },
  {
   "cell_type": "code",
   "execution_count": 71,
   "id": "a1d957e4",
   "metadata": {},
   "outputs": [
    {
     "data": {
      "text/plain": [
       "6"
      ]
     },
     "execution_count": 71,
     "metadata": {},
     "output_type": "execute_result"
    }
   ],
   "source": [
    "newArr[1][2]"
   ]
  },
  {
   "cell_type": "code",
   "execution_count": 72,
   "id": "a3cc96d7",
   "metadata": {},
   "outputs": [
    {
     "data": {
      "text/plain": [
       "6"
      ]
     },
     "execution_count": 72,
     "metadata": {},
     "output_type": "execute_result"
    }
   ],
   "source": [
    "newArr[1, 2]"
   ]
  },
  {
   "cell_type": "code",
   "execution_count": 74,
   "id": "6e3c8744",
   "metadata": {},
   "outputs": [
    {
     "data": {
      "text/plain": [
       "array([[ 5,  6],\n",
       "       [ 9, 10]])"
      ]
     },
     "execution_count": 74,
     "metadata": {},
     "output_type": "execute_result"
    }
   ],
   "source": [
    "newArr[1:, 1:3]"
   ]
  },
  {
   "cell_type": "markdown",
   "id": "13434686",
   "metadata": {},
   "source": [
    "## Fancy Indexing"
   ]
  },
  {
   "cell_type": "code",
   "execution_count": 76,
   "id": "24f200f0",
   "metadata": {},
   "outputs": [
    {
     "data": {
      "text/plain": [
       "array([[ 0,  1,  2,  3,  4,  5,  6,  7,  8,  9],\n",
       "       [10, 11, 12, 13, 14, 15, 16, 17, 18, 19],\n",
       "       [20, 21, 22, 23, 24, 25, 26, 27, 28, 29],\n",
       "       [30, 31, 32, 33, 34, 35, 36, 37, 38, 39],\n",
       "       [40, 41, 42, 43, 44, 45, 46, 47, 48, 49],\n",
       "       [50, 51, 52, 53, 54, 55, 56, 57, 58, 59],\n",
       "       [60, 61, 62, 63, 64, 65, 66, 67, 68, 69],\n",
       "       [70, 71, 72, 73, 74, 75, 76, 77, 78, 79],\n",
       "       [80, 81, 82, 83, 84, 85, 86, 87, 88, 89],\n",
       "       [90, 91, 92, 93, 94, 95, 96, 97, 98, 99]])"
      ]
     },
     "execution_count": 76,
     "metadata": {},
     "output_type": "execute_result"
    }
   ],
   "source": [
    "myArr = np.arange(100).reshape(10,10)\n",
    "myArr"
   ]
  },
  {
   "cell_type": "code",
   "execution_count": 77,
   "id": "4c0d2872",
   "metadata": {},
   "outputs": [
    {
     "data": {
      "text/plain": [
       "array([50, 51, 52, 53, 54, 55, 56, 57, 58, 59])"
      ]
     },
     "execution_count": 77,
     "metadata": {},
     "output_type": "execute_result"
    }
   ],
   "source": [
    "myArr[5]"
   ]
  },
  {
   "cell_type": "code",
   "execution_count": 78,
   "id": "2a5d0d18",
   "metadata": {},
   "outputs": [
    {
     "data": {
      "text/plain": [
       "array([[60, 61, 62, 63, 64, 65, 66, 67, 68, 69],\n",
       "       [40, 41, 42, 43, 44, 45, 46, 47, 48, 49],\n",
       "       [70, 71, 72, 73, 74, 75, 76, 77, 78, 79],\n",
       "       [90, 91, 92, 93, 94, 95, 96, 97, 98, 99]])"
      ]
     },
     "execution_count": 78,
     "metadata": {},
     "output_type": "execute_result"
    }
   ],
   "source": [
    "myArr[[6, 4, 7, 9]]"
   ]
  },
  {
   "cell_type": "markdown",
   "id": "c4f50d48",
   "metadata": {},
   "source": [
    "## Conditional Selection"
   ]
  },
  {
   "cell_type": "code",
   "execution_count": 80,
   "id": "e45983ee",
   "metadata": {},
   "outputs": [
    {
     "data": {
      "text/plain": [
       "array([ 1,  2,  3,  4,  5,  6,  7,  8,  9, 10])"
      ]
     },
     "execution_count": 80,
     "metadata": {},
     "output_type": "execute_result"
    }
   ],
   "source": [
    "arr = np.arange(1, 11)\n",
    "arr"
   ]
  },
  {
   "cell_type": "code",
   "execution_count": 81,
   "id": "d2419da4",
   "metadata": {},
   "outputs": [
    {
     "data": {
      "text/plain": [
       "array([False, False, False, False, False,  True,  True,  True,  True,\n",
       "        True])"
      ]
     },
     "execution_count": 81,
     "metadata": {},
     "output_type": "execute_result"
    }
   ],
   "source": [
    "arr > 5"
   ]
  },
  {
   "cell_type": "code",
   "execution_count": 82,
   "id": "6cd01434",
   "metadata": {},
   "outputs": [
    {
     "data": {
      "text/plain": [
       "array([ 6,  7,  8,  9, 10])"
      ]
     },
     "execution_count": 82,
     "metadata": {},
     "output_type": "execute_result"
    }
   ],
   "source": [
    "arr[arr > 5]"
   ]
  },
  {
   "cell_type": "code",
   "execution_count": 85,
   "id": "ef7d33a2",
   "metadata": {},
   "outputs": [
    {
     "data": {
      "text/plain": [
       "array([False, False, False, False, False,  True, False,  True, False,\n",
       "        True])"
      ]
     },
     "execution_count": 85,
     "metadata": {},
     "output_type": "execute_result"
    }
   ],
   "source": [
    "(arr > 5) & (arr%2==0)"
   ]
  },
  {
   "cell_type": "code",
   "execution_count": 86,
   "id": "74740a65",
   "metadata": {},
   "outputs": [
    {
     "data": {
      "text/plain": [
       "array([ 6,  8, 10])"
      ]
     },
     "execution_count": 86,
     "metadata": {},
     "output_type": "execute_result"
    }
   ],
   "source": [
    "arr[(arr > 5) & (arr%2==0)]"
   ]
  },
  {
   "cell_type": "code",
   "execution_count": null,
   "id": "1ba42b1b",
   "metadata": {},
   "outputs": [],
   "source": [
    "'''\n",
    "& and | \n",
    "0 -> False\n",
    "1 -> True\n",
    "\n",
    "0 + 0 = 0\n",
    "0 + 1 = 0\n",
    "1 + 0 = 0\n",
    "1 + 1 = 1\n",
    "'''"
   ]
  },
  {
   "cell_type": "markdown",
   "id": "47f45071",
   "metadata": {},
   "source": [
    "## Array Math Functions"
   ]
  },
  {
   "cell_type": "code",
   "execution_count": 95,
   "id": "d8c48680",
   "metadata": {},
   "outputs": [],
   "source": [
    "arr = np.array([1, 2, 3, 4])\n",
    "arr2 = np.array([10, 20, 30, 40])"
   ]
  },
  {
   "cell_type": "code",
   "execution_count": 96,
   "id": "1176d6a6",
   "metadata": {},
   "outputs": [
    {
     "data": {
      "text/plain": [
       "array([11, 22, 33, 44])"
      ]
     },
     "execution_count": 96,
     "metadata": {},
     "output_type": "execute_result"
    }
   ],
   "source": [
    "arr + arr2"
   ]
  },
  {
   "cell_type": "code",
   "execution_count": 89,
   "id": "78584ffb",
   "metadata": {},
   "outputs": [
    {
     "data": {
      "text/plain": [
       "array([ -9, -18, -27, -36])"
      ]
     },
     "execution_count": 89,
     "metadata": {},
     "output_type": "execute_result"
    }
   ],
   "source": [
    "arr - arr2"
   ]
  },
  {
   "cell_type": "code",
   "execution_count": 90,
   "id": "c9aae664",
   "metadata": {},
   "outputs": [
    {
     "data": {
      "text/plain": [
       "array([ 10,  40,  90, 160])"
      ]
     },
     "execution_count": 90,
     "metadata": {},
     "output_type": "execute_result"
    }
   ],
   "source": [
    "arr * arr2"
   ]
  },
  {
   "cell_type": "code",
   "execution_count": 91,
   "id": "62831c4f",
   "metadata": {},
   "outputs": [
    {
     "data": {
      "text/plain": [
       "array([0.1, 0.1, 0.1, 0.1])"
      ]
     },
     "execution_count": 91,
     "metadata": {},
     "output_type": "execute_result"
    }
   ],
   "source": [
    "arr / arr2"
   ]
  },
  {
   "cell_type": "code",
   "execution_count": 92,
   "id": "18116c20",
   "metadata": {},
   "outputs": [
    {
     "data": {
      "text/plain": [
       "array([1, 2, 3, 4])"
      ]
     },
     "execution_count": 92,
     "metadata": {},
     "output_type": "execute_result"
    }
   ],
   "source": [
    "arr % arr2"
   ]
  },
  {
   "cell_type": "code",
   "execution_count": 97,
   "id": "4b82cfe4",
   "metadata": {},
   "outputs": [],
   "source": [
    "arr3 = np.array([100])"
   ]
  },
  {
   "cell_type": "code",
   "execution_count": 98,
   "id": "b9da4388",
   "metadata": {},
   "outputs": [
    {
     "data": {
      "text/plain": [
       "array([101, 102, 103, 104])"
      ]
     },
     "execution_count": 98,
     "metadata": {},
     "output_type": "execute_result"
    }
   ],
   "source": [
    "arr + arr3"
   ]
  },
  {
   "cell_type": "code",
   "execution_count": 99,
   "id": "66d6b61b",
   "metadata": {},
   "outputs": [
    {
     "data": {
      "text/plain": [
       "array([[1, 2, 3],\n",
       "       [4, 5, 6]])"
      ]
     },
     "execution_count": 99,
     "metadata": {},
     "output_type": "execute_result"
    }
   ],
   "source": [
    "mat1 = np.arange(1,7).reshape(2,3)\n",
    "mat1"
   ]
  },
  {
   "cell_type": "code",
   "execution_count": 102,
   "id": "64f94401",
   "metadata": {},
   "outputs": [
    {
     "data": {
      "text/plain": [
       "array([[10, 20, 30],\n",
       "       [40, 50, 60]])"
      ]
     },
     "execution_count": 102,
     "metadata": {},
     "output_type": "execute_result"
    }
   ],
   "source": [
    "mat2 = np.arange(10,61,10).reshape(2,3)\n",
    "mat2"
   ]
  },
  {
   "cell_type": "code",
   "execution_count": 103,
   "id": "81f7d472",
   "metadata": {},
   "outputs": [
    {
     "data": {
      "text/plain": [
       "array([[11, 22, 33],\n",
       "       [44, 55, 66]])"
      ]
     },
     "execution_count": 103,
     "metadata": {},
     "output_type": "execute_result"
    }
   ],
   "source": [
    "mat1 + mat2"
   ]
  },
  {
   "cell_type": "code",
   "execution_count": 104,
   "id": "b3f349f1",
   "metadata": {},
   "outputs": [
    {
     "data": {
      "text/plain": [
       "array([[ 10,  40,  90],\n",
       "       [160, 250, 360]])"
      ]
     },
     "execution_count": 104,
     "metadata": {},
     "output_type": "execute_result"
    }
   ],
   "source": [
    "mat1 * mat2"
   ]
  },
  {
   "cell_type": "code",
   "execution_count": 117,
   "id": "15b39e8e",
   "metadata": {},
   "outputs": [],
   "source": [
    "x = np.array([[1, 2, 3], [4, 5, 6]])\n",
    "y = np.array([[7,8], [9, 10], [11, 12]])"
   ]
  },
  {
   "cell_type": "code",
   "execution_count": 118,
   "id": "c1f5d418",
   "metadata": {},
   "outputs": [
    {
     "data": {
      "text/plain": [
       "array([[1, 2, 3],\n",
       "       [4, 5, 6]])"
      ]
     },
     "execution_count": 118,
     "metadata": {},
     "output_type": "execute_result"
    }
   ],
   "source": [
    "x"
   ]
  },
  {
   "cell_type": "code",
   "execution_count": 119,
   "id": "84e3787d",
   "metadata": {},
   "outputs": [
    {
     "data": {
      "text/plain": [
       "array([[ 7,  8],\n",
       "       [ 9, 10],\n",
       "       [11, 12]])"
      ]
     },
     "execution_count": 119,
     "metadata": {},
     "output_type": "execute_result"
    }
   ],
   "source": [
    "y"
   ]
  },
  {
   "cell_type": "code",
   "execution_count": 120,
   "id": "1aca0fa3",
   "metadata": {},
   "outputs": [
    {
     "data": {
      "text/plain": [
       "array([[ 58,  64],\n",
       "       [139, 154]])"
      ]
     },
     "execution_count": 120,
     "metadata": {},
     "output_type": "execute_result"
    }
   ],
   "source": [
    "np.dot(x, y)"
   ]
  },
  {
   "cell_type": "markdown",
   "id": "e8a423f0",
   "metadata": {},
   "source": [
    "## Scalar Functions"
   ]
  },
  {
   "cell_type": "code",
   "execution_count": 105,
   "id": "570c04e8",
   "metadata": {},
   "outputs": [
    {
     "data": {
      "text/plain": [
       "array([10, 20, 30, 40])"
      ]
     },
     "execution_count": 105,
     "metadata": {},
     "output_type": "execute_result"
    }
   ],
   "source": [
    "arr2"
   ]
  },
  {
   "cell_type": "code",
   "execution_count": 106,
   "id": "94885a62",
   "metadata": {},
   "outputs": [
    {
     "data": {
      "text/plain": [
       "array([1000, 2000, 3000, 4000])"
      ]
     },
     "execution_count": 106,
     "metadata": {},
     "output_type": "execute_result"
    }
   ],
   "source": [
    "arr2 * 100"
   ]
  },
  {
   "cell_type": "code",
   "execution_count": 107,
   "id": "7cdfa7ad",
   "metadata": {},
   "outputs": [
    {
     "data": {
      "text/plain": [
       "array([110, 120, 130, 140])"
      ]
     },
     "execution_count": 107,
     "metadata": {},
     "output_type": "execute_result"
    }
   ],
   "source": [
    "arr2 + 100"
   ]
  },
  {
   "cell_type": "code",
   "execution_count": 108,
   "id": "c13c21a6",
   "metadata": {},
   "outputs": [
    {
     "name": "stderr",
     "output_type": "stream",
     "text": [
      "<ipython-input-108-e80b7df519a7>:1: RuntimeWarning: divide by zero encountered in true_divide\n",
      "  arr2 / 0\n"
     ]
    },
    {
     "data": {
      "text/plain": [
       "array([inf, inf, inf, inf])"
      ]
     },
     "execution_count": 108,
     "metadata": {},
     "output_type": "execute_result"
    }
   ],
   "source": [
    "arr2 / 0"
   ]
  },
  {
   "cell_type": "markdown",
   "id": "da2ae017",
   "metadata": {},
   "source": [
    "## Universal Array Functions"
   ]
  },
  {
   "cell_type": "code",
   "execution_count": 109,
   "id": "f219f38e",
   "metadata": {},
   "outputs": [
    {
     "data": {
      "text/plain": [
       "array([3.16227766, 4.47213595, 5.47722558, 6.32455532])"
      ]
     },
     "execution_count": 109,
     "metadata": {},
     "output_type": "execute_result"
    }
   ],
   "source": [
    "np.sqrt(arr2)"
   ]
  },
  {
   "cell_type": "code",
   "execution_count": 110,
   "id": "53e52dc1",
   "metadata": {},
   "outputs": [
    {
     "data": {
      "text/plain": [
       "array([2.20264658e+04, 4.85165195e+08, 1.06864746e+13, 2.35385267e+17])"
      ]
     },
     "execution_count": 110,
     "metadata": {},
     "output_type": "execute_result"
    }
   ],
   "source": [
    "np.exp(arr2)"
   ]
  },
  {
   "cell_type": "code",
   "execution_count": 111,
   "id": "8f009d30",
   "metadata": {},
   "outputs": [
    {
     "data": {
      "text/plain": [
       "array([-0.54402111,  0.91294525, -0.98803162,  0.74511316])"
      ]
     },
     "execution_count": 111,
     "metadata": {},
     "output_type": "execute_result"
    }
   ],
   "source": [
    "np.sin(arr2)"
   ]
  },
  {
   "cell_type": "code",
   "execution_count": 112,
   "id": "689995b9",
   "metadata": {},
   "outputs": [
    {
     "data": {
      "text/plain": [
       "array([ 0.64836083,  2.23716094, -6.4053312 , -1.11721493])"
      ]
     },
     "execution_count": 112,
     "metadata": {},
     "output_type": "execute_result"
    }
   ],
   "source": [
    "np.tan(arr2)"
   ]
  },
  {
   "cell_type": "code",
   "execution_count": 113,
   "id": "7d466c3d",
   "metadata": {},
   "outputs": [
    {
     "data": {
      "text/plain": [
       "array([2.30258509, 2.99573227, 3.40119738, 3.68887945])"
      ]
     },
     "execution_count": 113,
     "metadata": {},
     "output_type": "execute_result"
    }
   ],
   "source": [
    "np.log(arr2)"
   ]
  },
  {
   "cell_type": "code",
   "execution_count": null,
   "id": "5fb979ec",
   "metadata": {},
   "outputs": [],
   "source": []
  }
 ],
 "metadata": {
  "kernelspec": {
   "display_name": "Python 3",
   "language": "python",
   "name": "python3"
  },
  "language_info": {
   "codemirror_mode": {
    "name": "ipython",
    "version": 3
   },
   "file_extension": ".py",
   "mimetype": "text/x-python",
   "name": "python",
   "nbconvert_exporter": "python",
   "pygments_lexer": "ipython3",
   "version": "3.8.8"
  }
 },
 "nbformat": 4,
 "nbformat_minor": 5
}
